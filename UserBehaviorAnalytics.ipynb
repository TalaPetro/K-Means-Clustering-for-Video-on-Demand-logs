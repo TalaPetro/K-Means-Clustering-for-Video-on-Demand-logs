{
 "cells": [
  {
   "cell_type": "markdown",
   "metadata": {},
   "source": [
    "## User Behavioral Analytics on Videos Dataset"
   ]
  },
  {
   "cell_type": "code",
   "execution_count": 1,
   "metadata": {},
   "outputs": [],
   "source": [
    "#Importing libraries\n",
    "import pandas as pd\n",
    "import matplotlib.pyplot as plt"
   ]
  },
  {
   "cell_type": "code",
   "execution_count": 2,
   "metadata": {},
   "outputs": [],
   "source": [
    "#Reading Data from csv\n",
    "dataset= pd.read_csv('cdnelastic_VoD.csv')"
   ]
  },
  {
   "cell_type": "code",
   "execution_count": 3,
   "metadata": {},
   "outputs": [
    {
     "data": {
      "text/html": [
       "<div>\n",
       "<style scoped>\n",
       "    .dataframe tbody tr th:only-of-type {\n",
       "        vertical-align: middle;\n",
       "    }\n",
       "\n",
       "    .dataframe tbody tr th {\n",
       "        vertical-align: top;\n",
       "    }\n",
       "\n",
       "    .dataframe thead th {\n",
       "        text-align: right;\n",
       "    }\n",
       "</style>\n",
       "<table border=\"1\" class=\"dataframe\">\n",
       "  <thead>\n",
       "    <tr style=\"text-align: right;\">\n",
       "      <th></th>\n",
       "      <th>coordinates</th>\n",
       "      <th>timetoserv</th>\n",
       "      <th>uafamily</th>\n",
       "      <th>sid</th>\n",
       "      <th>contenttype</th>\n",
       "      <th>statuscode</th>\n",
       "      <th>uid</th>\n",
       "      <th>protocol</th>\n",
       "      <th>hit</th>\n",
       "      <th>@timestamp</th>\n",
       "      <th>contentpackage</th>\n",
       "      <th>host</th>\n",
       "      <th>assetnumber</th>\n",
       "      <th>livechannel</th>\n",
       "      <th>contentlength</th>\n",
       "    </tr>\n",
       "  </thead>\n",
       "  <tbody>\n",
       "    <tr>\n",
       "      <th>0</th>\n",
       "      <td>1.0</td>\n",
       "      <td>0.022135</td>\n",
       "      <td>16.0</td>\n",
       "      <td>3871</td>\n",
       "      <td>video/mp4</td>\n",
       "      <td>200</td>\n",
       "      <td>NaN</td>\n",
       "      <td>HTTP/1.1</td>\n",
       "      <td>miss</td>\n",
       "      <td>2088-05-13T09:20:46.000Z</td>\n",
       "      <td>55.0</td>\n",
       "      <td>15</td>\n",
       "      <td>54.0</td>\n",
       "      <td>NaN</td>\n",
       "      <td>33963.682540</td>\n",
       "    </tr>\n",
       "    <tr>\n",
       "      <th>1</th>\n",
       "      <td>1.0</td>\n",
       "      <td>0.000248</td>\n",
       "      <td>16.0</td>\n",
       "      <td>3323</td>\n",
       "      <td>video/mp4</td>\n",
       "      <td>200</td>\n",
       "      <td>NaN</td>\n",
       "      <td>HTTP/1.1</td>\n",
       "      <td>hit</td>\n",
       "      <td>2088-05-13T09:20:55.000Z</td>\n",
       "      <td>55.0</td>\n",
       "      <td>15</td>\n",
       "      <td>54.0</td>\n",
       "      <td>NaN</td>\n",
       "      <td>518.730159</td>\n",
       "    </tr>\n",
       "    <tr>\n",
       "      <th>2</th>\n",
       "      <td>1.0</td>\n",
       "      <td>0.000221</td>\n",
       "      <td>16.0</td>\n",
       "      <td>3930</td>\n",
       "      <td>video/mp4</td>\n",
       "      <td>200</td>\n",
       "      <td>NaN</td>\n",
       "      <td>HTTP/1.1</td>\n",
       "      <td>hit</td>\n",
       "      <td>2088-05-13T09:23:34.000Z</td>\n",
       "      <td>59.0</td>\n",
       "      <td>15</td>\n",
       "      <td>58.0</td>\n",
       "      <td>NaN</td>\n",
       "      <td>512.809524</td>\n",
       "    </tr>\n",
       "    <tr>\n",
       "      <th>3</th>\n",
       "      <td>1.0</td>\n",
       "      <td>0.001468</td>\n",
       "      <td>16.0</td>\n",
       "      <td>3945</td>\n",
       "      <td>video/mp4</td>\n",
       "      <td>200</td>\n",
       "      <td>NaN</td>\n",
       "      <td>HTTP/1.1</td>\n",
       "      <td>hit</td>\n",
       "      <td>2088-05-13T09:23:34.000Z</td>\n",
       "      <td>59.0</td>\n",
       "      <td>15</td>\n",
       "      <td>58.0</td>\n",
       "      <td>NaN</td>\n",
       "      <td>7758.412698</td>\n",
       "    </tr>\n",
       "    <tr>\n",
       "      <th>4</th>\n",
       "      <td>1.0</td>\n",
       "      <td>0.000265</td>\n",
       "      <td>16.0</td>\n",
       "      <td>3739</td>\n",
       "      <td>video/mp4</td>\n",
       "      <td>200</td>\n",
       "      <td>NaN</td>\n",
       "      <td>HTTP/1.1</td>\n",
       "      <td>hit</td>\n",
       "      <td>2088-05-13T09:23:36.000Z</td>\n",
       "      <td>59.0</td>\n",
       "      <td>15</td>\n",
       "      <td>58.0</td>\n",
       "      <td>NaN</td>\n",
       "      <td>518.666667</td>\n",
       "    </tr>\n",
       "    <tr>\n",
       "      <th>...</th>\n",
       "      <td>...</td>\n",
       "      <td>...</td>\n",
       "      <td>...</td>\n",
       "      <td>...</td>\n",
       "      <td>...</td>\n",
       "      <td>...</td>\n",
       "      <td>...</td>\n",
       "      <td>...</td>\n",
       "      <td>...</td>\n",
       "      <td>...</td>\n",
       "      <td>...</td>\n",
       "      <td>...</td>\n",
       "      <td>...</td>\n",
       "      <td>...</td>\n",
       "      <td>...</td>\n",
       "    </tr>\n",
       "    <tr>\n",
       "      <th>3696289</th>\n",
       "      <td>0.0</td>\n",
       "      <td>0.010339</td>\n",
       "      <td>12.0</td>\n",
       "      <td>1280459</td>\n",
       "      <td>video/mpeg</td>\n",
       "      <td>206</td>\n",
       "      <td>NaN</td>\n",
       "      <td>HTTP/1.1</td>\n",
       "      <td>miss</td>\n",
       "      <td>2088-05-19T05:49:45.000Z</td>\n",
       "      <td>3938.0</td>\n",
       "      <td>4</td>\n",
       "      <td>3472.0</td>\n",
       "      <td>NaN</td>\n",
       "      <td>1543.206349</td>\n",
       "    </tr>\n",
       "    <tr>\n",
       "      <th>3696290</th>\n",
       "      <td>4823.0</td>\n",
       "      <td>0.000293</td>\n",
       "      <td>12.0</td>\n",
       "      <td>1280455</td>\n",
       "      <td>video/mpeg</td>\n",
       "      <td>206</td>\n",
       "      <td>NaN</td>\n",
       "      <td>HTTP/1.1</td>\n",
       "      <td>hit</td>\n",
       "      <td>2088-05-19T05:51:33.000Z</td>\n",
       "      <td>2829.0</td>\n",
       "      <td>4</td>\n",
       "      <td>2553.0</td>\n",
       "      <td>NaN</td>\n",
       "      <td>1579.206349</td>\n",
       "    </tr>\n",
       "    <tr>\n",
       "      <th>3696291</th>\n",
       "      <td>1792.0</td>\n",
       "      <td>0.000358</td>\n",
       "      <td>16.0</td>\n",
       "      <td>1281366</td>\n",
       "      <td>video/mp4</td>\n",
       "      <td>200</td>\n",
       "      <td>NaN</td>\n",
       "      <td>HTTP/1.1</td>\n",
       "      <td>hit</td>\n",
       "      <td>2088-05-19T06:52:35.000Z</td>\n",
       "      <td>3821.0</td>\n",
       "      <td>15</td>\n",
       "      <td>2357.0</td>\n",
       "      <td>NaN</td>\n",
       "      <td>4768.746032</td>\n",
       "    </tr>\n",
       "    <tr>\n",
       "      <th>3696292</th>\n",
       "      <td>0.0</td>\n",
       "      <td>0.000317</td>\n",
       "      <td>12.0</td>\n",
       "      <td>1281441</td>\n",
       "      <td>video/mpeg</td>\n",
       "      <td>206</td>\n",
       "      <td>NaN</td>\n",
       "      <td>HTTP/1.1</td>\n",
       "      <td>hit</td>\n",
       "      <td>2088-05-19T06:57:49.000Z</td>\n",
       "      <td>2753.0</td>\n",
       "      <td>4</td>\n",
       "      <td>2501.0</td>\n",
       "      <td>NaN</td>\n",
       "      <td>1541.666667</td>\n",
       "    </tr>\n",
       "    <tr>\n",
       "      <th>3696293</th>\n",
       "      <td>0.0</td>\n",
       "      <td>0.031679</td>\n",
       "      <td>12.0</td>\n",
       "      <td>1281495</td>\n",
       "      <td>video/mp4</td>\n",
       "      <td>206</td>\n",
       "      <td>NaN</td>\n",
       "      <td>HTTP/1.1</td>\n",
       "      <td>miss</td>\n",
       "      <td>2088-05-19T06:58:18.000Z</td>\n",
       "      <td>2753.0</td>\n",
       "      <td>4</td>\n",
       "      <td>2501.0</td>\n",
       "      <td>NaN</td>\n",
       "      <td>5918.857143</td>\n",
       "    </tr>\n",
       "  </tbody>\n",
       "</table>\n",
       "<p>3696294 rows × 15 columns</p>\n",
       "</div>"
      ],
      "text/plain": [
       "         coordinates  timetoserv  uafamily      sid contenttype  statuscode  \\\n",
       "0                1.0    0.022135      16.0     3871   video/mp4         200   \n",
       "1                1.0    0.000248      16.0     3323   video/mp4         200   \n",
       "2                1.0    0.000221      16.0     3930   video/mp4         200   \n",
       "3                1.0    0.001468      16.0     3945   video/mp4         200   \n",
       "4                1.0    0.000265      16.0     3739   video/mp4         200   \n",
       "...              ...         ...       ...      ...         ...         ...   \n",
       "3696289          0.0    0.010339      12.0  1280459  video/mpeg         206   \n",
       "3696290       4823.0    0.000293      12.0  1280455  video/mpeg         206   \n",
       "3696291       1792.0    0.000358      16.0  1281366   video/mp4         200   \n",
       "3696292          0.0    0.000317      12.0  1281441  video/mpeg         206   \n",
       "3696293          0.0    0.031679      12.0  1281495   video/mp4         206   \n",
       "\n",
       "         uid  protocol   hit                @timestamp  contentpackage  host  \\\n",
       "0        NaN  HTTP/1.1  miss  2088-05-13T09:20:46.000Z            55.0    15   \n",
       "1        NaN  HTTP/1.1   hit  2088-05-13T09:20:55.000Z            55.0    15   \n",
       "2        NaN  HTTP/1.1   hit  2088-05-13T09:23:34.000Z            59.0    15   \n",
       "3        NaN  HTTP/1.1   hit  2088-05-13T09:23:34.000Z            59.0    15   \n",
       "4        NaN  HTTP/1.1   hit  2088-05-13T09:23:36.000Z            59.0    15   \n",
       "...      ...       ...   ...                       ...             ...   ...   \n",
       "3696289  NaN  HTTP/1.1  miss  2088-05-19T05:49:45.000Z          3938.0     4   \n",
       "3696290  NaN  HTTP/1.1   hit  2088-05-19T05:51:33.000Z          2829.0     4   \n",
       "3696291  NaN  HTTP/1.1   hit  2088-05-19T06:52:35.000Z          3821.0    15   \n",
       "3696292  NaN  HTTP/1.1   hit  2088-05-19T06:57:49.000Z          2753.0     4   \n",
       "3696293  NaN  HTTP/1.1  miss  2088-05-19T06:58:18.000Z          2753.0     4   \n",
       "\n",
       "         assetnumber  livechannel  contentlength  \n",
       "0               54.0          NaN   33963.682540  \n",
       "1               54.0          NaN     518.730159  \n",
       "2               58.0          NaN     512.809524  \n",
       "3               58.0          NaN    7758.412698  \n",
       "4               58.0          NaN     518.666667  \n",
       "...              ...          ...            ...  \n",
       "3696289       3472.0          NaN    1543.206349  \n",
       "3696290       2553.0          NaN    1579.206349  \n",
       "3696291       2357.0          NaN    4768.746032  \n",
       "3696292       2501.0          NaN    1541.666667  \n",
       "3696293       2501.0          NaN    5918.857143  \n",
       "\n",
       "[3696294 rows x 15 columns]"
      ]
     },
     "execution_count": 3,
     "metadata": {},
     "output_type": "execute_result"
    }
   ],
   "source": [
    "dataset"
   ]
  },
  {
   "cell_type": "markdown",
   "metadata": {},
   "source": [
    "After the data was loaded, We look at what columns we have and their types."
   ]
  },
  {
   "cell_type": "code",
   "execution_count": 4,
   "metadata": {},
   "outputs": [
    {
     "name": "stdout",
     "output_type": "stream",
     "text": [
      "<class 'pandas.core.frame.DataFrame'>\n",
      "RangeIndex: 3696294 entries, 0 to 3696293\n",
      "Data columns (total 15 columns):\n",
      " #   Column          Dtype  \n",
      "---  ------          -----  \n",
      " 0   coordinates     float64\n",
      " 1   timetoserv      float64\n",
      " 2   uafamily        float64\n",
      " 3   sid             int64  \n",
      " 4   contenttype     object \n",
      " 5   statuscode      int64  \n",
      " 6   uid             float64\n",
      " 7   protocol        object \n",
      " 8   hit             object \n",
      " 9   @timestamp      object \n",
      " 10  contentpackage  float64\n",
      " 11  host            int64  \n",
      " 12  assetnumber     float64\n",
      " 13  livechannel     float64\n",
      " 14  contentlength   float64\n",
      "dtypes: float64(8), int64(3), object(4)\n",
      "memory usage: 423.0+ MB\n"
     ]
    }
   ],
   "source": [
    "dataset.info()"
   ]
  },
  {
   "cell_type": "code",
   "execution_count": 5,
   "metadata": {},
   "outputs": [
    {
     "data": {
      "text/plain": [
       "coordinates           550\n",
       "timetoserv              0\n",
       "uafamily           731034\n",
       "sid                     0\n",
       "contenttype             0\n",
       "statuscode              0\n",
       "uid               3426337\n",
       "protocol                0\n",
       "hit                     0\n",
       "@timestamp              0\n",
       "contentpackage          0\n",
       "host                    0\n",
       "assetnumber             0\n",
       "livechannel       3696294\n",
       "contentlength           0\n",
       "dtype: int64"
      ]
     },
     "execution_count": 5,
     "metadata": {},
     "output_type": "execute_result"
    }
   ],
   "source": [
    "dataset.isna().sum()"
   ]
  },
  {
   "cell_type": "markdown",
   "metadata": {},
   "source": [
    "My focus will be mainly on SID, uid, contentpackage, for uid, I have many NaN values, so I will drop them to have a better view of the data."
   ]
  },
  {
   "cell_type": "code",
   "execution_count": 19,
   "metadata": {},
   "outputs": [],
   "source": [
    "dataset = dataset.dropna(subset=['uid'])\n",
    "dataset = dataset.dropna(subset=['coordinates'])"
   ]
  },
  {
   "cell_type": "code",
   "execution_count": 5,
   "metadata": {},
   "outputs": [
    {
     "data": {
      "text/plain": [
       "coordinates           77\n",
       "timetoserv             0\n",
       "uafamily            2543\n",
       "sid                    0\n",
       "contenttype            0\n",
       "statuscode             0\n",
       "uid                    0\n",
       "protocol               0\n",
       "hit                    0\n",
       "@timestamp             0\n",
       "contentpackage         0\n",
       "host                   0\n",
       "assetnumber            0\n",
       "livechannel       269957\n",
       "contentlength          0\n",
       "dtype: int64"
      ]
     },
     "execution_count": 5,
     "metadata": {},
     "output_type": "execute_result"
    }
   ],
   "source": [
    "dataset.isna().sum()"
   ]
  },
  {
   "cell_type": "markdown",
   "metadata": {},
   "source": [
    "I will be dropping the following columns as I see they will not be necessary for this project: timetoserv, uafamily, protocol, hit, host, livechannel."
   ]
  },
  {
   "cell_type": "code",
   "execution_count": 17,
   "metadata": {},
   "outputs": [],
   "source": [
    "columnsdrop = ['timetoserv', 'uafamily', 'protocol', 'hit', 'host', 'livechannel']\n",
    "dataset = dataset.drop(columnsdrop, axis=1)"
   ]
  },
  {
   "cell_type": "code",
   "execution_count": 25,
   "metadata": {},
   "outputs": [],
   "source": [
    "dataset = dataset.reset_index(drop=True)"
   ]
  },
  {
   "cell_type": "code",
   "execution_count": 39,
   "metadata": {},
   "outputs": [],
   "source": [
    "#changing name of contentpackage to contentID\n",
    "dataset.rename(columns = {'contentpackage' : 'contentid'}, inplace=True)"
   ]
  },
  {
   "cell_type": "markdown",
   "metadata": {},
   "source": [
    "Now, let us look at the data and get an idea after some basic cleaning"
   ]
  },
  {
   "cell_type": "code",
   "execution_count": 40,
   "metadata": {},
   "outputs": [
    {
     "name": "stdout",
     "output_type": "stream",
     "text": [
      "<class 'pandas.core.frame.DataFrame'>\n",
      "RangeIndex: 269880 entries, 0 to 269879\n",
      "Data columns (total 9 columns):\n",
      " #   Column         Non-Null Count   Dtype  \n",
      "---  ------         --------------   -----  \n",
      " 0   coordinates    269880 non-null  float64\n",
      " 1   sid            269880 non-null  int64  \n",
      " 2   contenttype    269880 non-null  object \n",
      " 3   statuscode     269880 non-null  int64  \n",
      " 4   uid            269880 non-null  float64\n",
      " 5   @timestamp     269880 non-null  object \n",
      " 6   contentid      269880 non-null  float64\n",
      " 7   assetnumber    269880 non-null  float64\n",
      " 8   contentlength  269880 non-null  float64\n",
      "dtypes: float64(5), int64(2), object(2)\n",
      "memory usage: 18.5+ MB\n"
     ]
    }
   ],
   "source": [
    "dataset.info()"
   ]
  },
  {
   "cell_type": "markdown",
   "metadata": {},
   "source": [
    "I will now count how many user Ids we have, how many session Ids, and how many content IDs."
   ]
  },
  {
   "cell_type": "code",
   "execution_count": 31,
   "metadata": {},
   "outputs": [
    {
     "name": "stdout",
     "output_type": "stream",
     "text": [
      "3668\n"
     ]
    }
   ],
   "source": [
    "#UserID count\n",
    "dataset['uid'].value_counts()\n",
    "uidCount = len(dataset['uid'].value_counts())\n",
    "print(uidCount)"
   ]
  },
  {
   "cell_type": "code",
   "execution_count": 33,
   "metadata": {},
   "outputs": [
    {
     "name": "stdout",
     "output_type": "stream",
     "text": [
      "15336\n"
     ]
    }
   ],
   "source": [
    "#SessionID count\n",
    "dataset['sid'].value_counts()\n",
    "sidCount = len(dataset['sid'].value_counts())\n",
    "print(sidCount)"
   ]
  },
  {
   "cell_type": "code",
   "execution_count": 41,
   "metadata": {},
   "outputs": [
    {
     "name": "stdout",
     "output_type": "stream",
     "text": [
      "3422\n"
     ]
    }
   ],
   "source": [
    "#content id count\n",
    "dataset['contentid'].value_counts()\n",
    "sidCount = len(dataset['contentid'].value_counts())\n",
    "print(sidCount)"
   ]
  },
  {
   "cell_type": "code",
   "execution_count": 42,
   "metadata": {},
   "outputs": [
    {
     "data": {
      "text/plain": [
       "video/mp4                          198187\n",
       "video/mpeg                          51330\n",
       "text/xml                            19241\n",
       "application/dash+xml                 1011\n",
       "application/ttaf+xml                  103\n",
       "application/json; charset=utf-8         8\n",
       "Name: contenttype, dtype: int64"
      ]
     },
     "execution_count": 42,
     "metadata": {},
     "output_type": "execute_result"
    }
   ],
   "source": [
    "dataset['contenttype'].value_counts()"
   ]
  },
  {
   "cell_type": "markdown",
   "metadata": {},
   "source": [
    "So in this dataset, we have activity of 3668 users, 15336 sessions, and 3422 content to be viewed."
   ]
  }
 ],
 "metadata": {
  "interpreter": {
   "hash": "7be706d8f448ce1d4489a653c6f6b7472c677a1c4e0957af67feb7431fe483a6"
  },
  "kernelspec": {
   "display_name": "Python 3.8.8 ('base')",
   "language": "python",
   "name": "python3"
  },
  "language_info": {
   "codemirror_mode": {
    "name": "ipython",
    "version": 3
   },
   "file_extension": ".py",
   "mimetype": "text/x-python",
   "name": "python",
   "nbconvert_exporter": "python",
   "pygments_lexer": "ipython3",
   "version": "3.8.8"
  },
  "orig_nbformat": 4
 },
 "nbformat": 4,
 "nbformat_minor": 2
}
