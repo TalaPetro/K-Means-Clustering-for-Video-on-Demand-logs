{
 "cells": [
  {
   "cell_type": "markdown",
   "metadata": {},
   "source": [
    "## User Behavioral Analytics on Videos Dataset"
   ]
  },
  {
   "cell_type": "code",
   "execution_count": 491,
   "metadata": {},
   "outputs": [],
   "source": [
    "#Importing libraries\n",
    "import pandas as pd\n",
    "import matplotlib.pyplot as plt\n",
    "from datetime import datetime\n",
    "from datetime import date\n",
    "import seaborn as sns\n",
    "import numpy as np\n",
    "from scipy import stats\n",
    "from sklearn.preprocessing import StandardScaler\n",
    "from sklearn.manifold import TSNE\n",
    "from sklearn.cluster import KMeans\n",
    "\n",
    "from scipy.stats.mstats import winsorize\n",
    "from sklearn.preprocessing import MinMaxScaler\n",
    "from sklearn.decomposition import PCA"
   ]
  },
  {
   "cell_type": "code",
   "execution_count": 492,
   "metadata": {},
   "outputs": [],
   "source": [
    "#Reading Data from csv\n",
    "dataset= pd.read_csv('cdnelastic_VoD.csv')"
   ]
  },
  {
   "cell_type": "code",
   "execution_count": 493,
   "metadata": {},
   "outputs": [
    {
     "data": {
      "text/html": [
       "<div>\n",
       "<style scoped>\n",
       "    .dataframe tbody tr th:only-of-type {\n",
       "        vertical-align: middle;\n",
       "    }\n",
       "\n",
       "    .dataframe tbody tr th {\n",
       "        vertical-align: top;\n",
       "    }\n",
       "\n",
       "    .dataframe thead th {\n",
       "        text-align: right;\n",
       "    }\n",
       "</style>\n",
       "<table border=\"1\" class=\"dataframe\">\n",
       "  <thead>\n",
       "    <tr style=\"text-align: right;\">\n",
       "      <th></th>\n",
       "      <th>coordinates</th>\n",
       "      <th>timetoserv</th>\n",
       "      <th>uafamily</th>\n",
       "      <th>sid</th>\n",
       "      <th>contenttype</th>\n",
       "      <th>statuscode</th>\n",
       "      <th>uid</th>\n",
       "      <th>protocol</th>\n",
       "      <th>hit</th>\n",
       "      <th>@timestamp</th>\n",
       "      <th>contentpackage</th>\n",
       "      <th>host</th>\n",
       "      <th>assetnumber</th>\n",
       "      <th>livechannel</th>\n",
       "      <th>contentlength</th>\n",
       "    </tr>\n",
       "  </thead>\n",
       "  <tbody>\n",
       "    <tr>\n",
       "      <th>0</th>\n",
       "      <td>1.0</td>\n",
       "      <td>0.022135</td>\n",
       "      <td>16.0</td>\n",
       "      <td>3871</td>\n",
       "      <td>video/mp4</td>\n",
       "      <td>200</td>\n",
       "      <td>NaN</td>\n",
       "      <td>HTTP/1.1</td>\n",
       "      <td>miss</td>\n",
       "      <td>2088-05-13T09:20:46.000Z</td>\n",
       "      <td>55.0</td>\n",
       "      <td>15</td>\n",
       "      <td>54.0</td>\n",
       "      <td>NaN</td>\n",
       "      <td>33963.682540</td>\n",
       "    </tr>\n",
       "    <tr>\n",
       "      <th>1</th>\n",
       "      <td>1.0</td>\n",
       "      <td>0.000248</td>\n",
       "      <td>16.0</td>\n",
       "      <td>3323</td>\n",
       "      <td>video/mp4</td>\n",
       "      <td>200</td>\n",
       "      <td>NaN</td>\n",
       "      <td>HTTP/1.1</td>\n",
       "      <td>hit</td>\n",
       "      <td>2088-05-13T09:20:55.000Z</td>\n",
       "      <td>55.0</td>\n",
       "      <td>15</td>\n",
       "      <td>54.0</td>\n",
       "      <td>NaN</td>\n",
       "      <td>518.730159</td>\n",
       "    </tr>\n",
       "    <tr>\n",
       "      <th>2</th>\n",
       "      <td>1.0</td>\n",
       "      <td>0.000221</td>\n",
       "      <td>16.0</td>\n",
       "      <td>3930</td>\n",
       "      <td>video/mp4</td>\n",
       "      <td>200</td>\n",
       "      <td>NaN</td>\n",
       "      <td>HTTP/1.1</td>\n",
       "      <td>hit</td>\n",
       "      <td>2088-05-13T09:23:34.000Z</td>\n",
       "      <td>59.0</td>\n",
       "      <td>15</td>\n",
       "      <td>58.0</td>\n",
       "      <td>NaN</td>\n",
       "      <td>512.809524</td>\n",
       "    </tr>\n",
       "    <tr>\n",
       "      <th>3</th>\n",
       "      <td>1.0</td>\n",
       "      <td>0.001468</td>\n",
       "      <td>16.0</td>\n",
       "      <td>3945</td>\n",
       "      <td>video/mp4</td>\n",
       "      <td>200</td>\n",
       "      <td>NaN</td>\n",
       "      <td>HTTP/1.1</td>\n",
       "      <td>hit</td>\n",
       "      <td>2088-05-13T09:23:34.000Z</td>\n",
       "      <td>59.0</td>\n",
       "      <td>15</td>\n",
       "      <td>58.0</td>\n",
       "      <td>NaN</td>\n",
       "      <td>7758.412698</td>\n",
       "    </tr>\n",
       "    <tr>\n",
       "      <th>4</th>\n",
       "      <td>1.0</td>\n",
       "      <td>0.000265</td>\n",
       "      <td>16.0</td>\n",
       "      <td>3739</td>\n",
       "      <td>video/mp4</td>\n",
       "      <td>200</td>\n",
       "      <td>NaN</td>\n",
       "      <td>HTTP/1.1</td>\n",
       "      <td>hit</td>\n",
       "      <td>2088-05-13T09:23:36.000Z</td>\n",
       "      <td>59.0</td>\n",
       "      <td>15</td>\n",
       "      <td>58.0</td>\n",
       "      <td>NaN</td>\n",
       "      <td>518.666667</td>\n",
       "    </tr>\n",
       "    <tr>\n",
       "      <th>...</th>\n",
       "      <td>...</td>\n",
       "      <td>...</td>\n",
       "      <td>...</td>\n",
       "      <td>...</td>\n",
       "      <td>...</td>\n",
       "      <td>...</td>\n",
       "      <td>...</td>\n",
       "      <td>...</td>\n",
       "      <td>...</td>\n",
       "      <td>...</td>\n",
       "      <td>...</td>\n",
       "      <td>...</td>\n",
       "      <td>...</td>\n",
       "      <td>...</td>\n",
       "      <td>...</td>\n",
       "    </tr>\n",
       "    <tr>\n",
       "      <th>3696289</th>\n",
       "      <td>0.0</td>\n",
       "      <td>0.010339</td>\n",
       "      <td>12.0</td>\n",
       "      <td>1280459</td>\n",
       "      <td>video/mpeg</td>\n",
       "      <td>206</td>\n",
       "      <td>NaN</td>\n",
       "      <td>HTTP/1.1</td>\n",
       "      <td>miss</td>\n",
       "      <td>2088-05-19T05:49:45.000Z</td>\n",
       "      <td>3938.0</td>\n",
       "      <td>4</td>\n",
       "      <td>3472.0</td>\n",
       "      <td>NaN</td>\n",
       "      <td>1543.206349</td>\n",
       "    </tr>\n",
       "    <tr>\n",
       "      <th>3696290</th>\n",
       "      <td>4823.0</td>\n",
       "      <td>0.000293</td>\n",
       "      <td>12.0</td>\n",
       "      <td>1280455</td>\n",
       "      <td>video/mpeg</td>\n",
       "      <td>206</td>\n",
       "      <td>NaN</td>\n",
       "      <td>HTTP/1.1</td>\n",
       "      <td>hit</td>\n",
       "      <td>2088-05-19T05:51:33.000Z</td>\n",
       "      <td>2829.0</td>\n",
       "      <td>4</td>\n",
       "      <td>2553.0</td>\n",
       "      <td>NaN</td>\n",
       "      <td>1579.206349</td>\n",
       "    </tr>\n",
       "    <tr>\n",
       "      <th>3696291</th>\n",
       "      <td>1792.0</td>\n",
       "      <td>0.000358</td>\n",
       "      <td>16.0</td>\n",
       "      <td>1281366</td>\n",
       "      <td>video/mp4</td>\n",
       "      <td>200</td>\n",
       "      <td>NaN</td>\n",
       "      <td>HTTP/1.1</td>\n",
       "      <td>hit</td>\n",
       "      <td>2088-05-19T06:52:35.000Z</td>\n",
       "      <td>3821.0</td>\n",
       "      <td>15</td>\n",
       "      <td>2357.0</td>\n",
       "      <td>NaN</td>\n",
       "      <td>4768.746032</td>\n",
       "    </tr>\n",
       "    <tr>\n",
       "      <th>3696292</th>\n",
       "      <td>0.0</td>\n",
       "      <td>0.000317</td>\n",
       "      <td>12.0</td>\n",
       "      <td>1281441</td>\n",
       "      <td>video/mpeg</td>\n",
       "      <td>206</td>\n",
       "      <td>NaN</td>\n",
       "      <td>HTTP/1.1</td>\n",
       "      <td>hit</td>\n",
       "      <td>2088-05-19T06:57:49.000Z</td>\n",
       "      <td>2753.0</td>\n",
       "      <td>4</td>\n",
       "      <td>2501.0</td>\n",
       "      <td>NaN</td>\n",
       "      <td>1541.666667</td>\n",
       "    </tr>\n",
       "    <tr>\n",
       "      <th>3696293</th>\n",
       "      <td>0.0</td>\n",
       "      <td>0.031679</td>\n",
       "      <td>12.0</td>\n",
       "      <td>1281495</td>\n",
       "      <td>video/mp4</td>\n",
       "      <td>206</td>\n",
       "      <td>NaN</td>\n",
       "      <td>HTTP/1.1</td>\n",
       "      <td>miss</td>\n",
       "      <td>2088-05-19T06:58:18.000Z</td>\n",
       "      <td>2753.0</td>\n",
       "      <td>4</td>\n",
       "      <td>2501.0</td>\n",
       "      <td>NaN</td>\n",
       "      <td>5918.857143</td>\n",
       "    </tr>\n",
       "  </tbody>\n",
       "</table>\n",
       "<p>3696294 rows × 15 columns</p>\n",
       "</div>"
      ],
      "text/plain": [
       "         coordinates  timetoserv  uafamily      sid contenttype  statuscode  \\\n",
       "0                1.0    0.022135      16.0     3871   video/mp4         200   \n",
       "1                1.0    0.000248      16.0     3323   video/mp4         200   \n",
       "2                1.0    0.000221      16.0     3930   video/mp4         200   \n",
       "3                1.0    0.001468      16.0     3945   video/mp4         200   \n",
       "4                1.0    0.000265      16.0     3739   video/mp4         200   \n",
       "...              ...         ...       ...      ...         ...         ...   \n",
       "3696289          0.0    0.010339      12.0  1280459  video/mpeg         206   \n",
       "3696290       4823.0    0.000293      12.0  1280455  video/mpeg         206   \n",
       "3696291       1792.0    0.000358      16.0  1281366   video/mp4         200   \n",
       "3696292          0.0    0.000317      12.0  1281441  video/mpeg         206   \n",
       "3696293          0.0    0.031679      12.0  1281495   video/mp4         206   \n",
       "\n",
       "         uid  protocol   hit                @timestamp  contentpackage  host  \\\n",
       "0        NaN  HTTP/1.1  miss  2088-05-13T09:20:46.000Z            55.0    15   \n",
       "1        NaN  HTTP/1.1   hit  2088-05-13T09:20:55.000Z            55.0    15   \n",
       "2        NaN  HTTP/1.1   hit  2088-05-13T09:23:34.000Z            59.0    15   \n",
       "3        NaN  HTTP/1.1   hit  2088-05-13T09:23:34.000Z            59.0    15   \n",
       "4        NaN  HTTP/1.1   hit  2088-05-13T09:23:36.000Z            59.0    15   \n",
       "...      ...       ...   ...                       ...             ...   ...   \n",
       "3696289  NaN  HTTP/1.1  miss  2088-05-19T05:49:45.000Z          3938.0     4   \n",
       "3696290  NaN  HTTP/1.1   hit  2088-05-19T05:51:33.000Z          2829.0     4   \n",
       "3696291  NaN  HTTP/1.1   hit  2088-05-19T06:52:35.000Z          3821.0    15   \n",
       "3696292  NaN  HTTP/1.1   hit  2088-05-19T06:57:49.000Z          2753.0     4   \n",
       "3696293  NaN  HTTP/1.1  miss  2088-05-19T06:58:18.000Z          2753.0     4   \n",
       "\n",
       "         assetnumber  livechannel  contentlength  \n",
       "0               54.0          NaN   33963.682540  \n",
       "1               54.0          NaN     518.730159  \n",
       "2               58.0          NaN     512.809524  \n",
       "3               58.0          NaN    7758.412698  \n",
       "4               58.0          NaN     518.666667  \n",
       "...              ...          ...            ...  \n",
       "3696289       3472.0          NaN    1543.206349  \n",
       "3696290       2553.0          NaN    1579.206349  \n",
       "3696291       2357.0          NaN    4768.746032  \n",
       "3696292       2501.0          NaN    1541.666667  \n",
       "3696293       2501.0          NaN    5918.857143  \n",
       "\n",
       "[3696294 rows x 15 columns]"
      ]
     },
     "execution_count": 493,
     "metadata": {},
     "output_type": "execute_result"
    }
   ],
   "source": [
    "dataset"
   ]
  },
  {
   "cell_type": "markdown",
   "metadata": {},
   "source": [
    "After the data was loaded, We look at what columns we have and their types."
   ]
  },
  {
   "cell_type": "code",
   "execution_count": 494,
   "metadata": {},
   "outputs": [
    {
     "name": "stdout",
     "output_type": "stream",
     "text": [
      "<class 'pandas.core.frame.DataFrame'>\n",
      "RangeIndex: 3696294 entries, 0 to 3696293\n",
      "Data columns (total 15 columns):\n",
      " #   Column          Dtype  \n",
      "---  ------          -----  \n",
      " 0   coordinates     float64\n",
      " 1   timetoserv      float64\n",
      " 2   uafamily        float64\n",
      " 3   sid             int64  \n",
      " 4   contenttype     object \n",
      " 5   statuscode      int64  \n",
      " 6   uid             float64\n",
      " 7   protocol        object \n",
      " 8   hit             object \n",
      " 9   @timestamp      object \n",
      " 10  contentpackage  float64\n",
      " 11  host            int64  \n",
      " 12  assetnumber     float64\n",
      " 13  livechannel     float64\n",
      " 14  contentlength   float64\n",
      "dtypes: float64(8), int64(3), object(4)\n",
      "memory usage: 423.0+ MB\n"
     ]
    }
   ],
   "source": [
    "dataset.info()"
   ]
  },
  {
   "cell_type": "code",
   "execution_count": 495,
   "metadata": {},
   "outputs": [
    {
     "data": {
      "text/plain": [
       "coordinates           550\n",
       "timetoserv              0\n",
       "uafamily           731034\n",
       "sid                     0\n",
       "contenttype             0\n",
       "statuscode              0\n",
       "uid               3426337\n",
       "protocol                0\n",
       "hit                     0\n",
       "@timestamp              0\n",
       "contentpackage          0\n",
       "host                    0\n",
       "assetnumber             0\n",
       "livechannel       3696294\n",
       "contentlength           0\n",
       "dtype: int64"
      ]
     },
     "execution_count": 495,
     "metadata": {},
     "output_type": "execute_result"
    }
   ],
   "source": [
    "dataset.isna().sum()"
   ]
  },
  {
   "cell_type": "markdown",
   "metadata": {},
   "source": [
    "My focus will be mainly on SID, uid, contentpackage, for uid, I have many NaN values, so I will drop them to have a better view of the data, I will also be dropping rows with statuscode 404, 503."
   ]
  },
  {
   "cell_type": "code",
   "execution_count": 496,
   "metadata": {},
   "outputs": [],
   "source": [
    "dataset = dataset.dropna(subset=['uid'])"
   ]
  },
  {
   "cell_type": "code",
   "execution_count": 497,
   "metadata": {},
   "outputs": [
    {
     "data": {
      "text/plain": [
       "200    154751\n",
       "206    115198\n",
       "503         8\n",
       "Name: statuscode, dtype: int64"
      ]
     },
     "execution_count": 497,
     "metadata": {},
     "output_type": "execute_result"
    }
   ],
   "source": [
    "dataset['statuscode'].value_counts()"
   ]
  },
  {
   "cell_type": "code",
   "execution_count": 498,
   "metadata": {},
   "outputs": [],
   "source": [
    "dataset = dataset[dataset['statuscode'] != 404]\n",
    "dataset = dataset[dataset['statuscode'] != 503]"
   ]
  },
  {
   "cell_type": "code",
   "execution_count": 499,
   "metadata": {},
   "outputs": [
    {
     "data": {
      "text/plain": [
       "coordinates           77\n",
       "timetoserv             0\n",
       "uafamily            2540\n",
       "sid                    0\n",
       "contenttype            0\n",
       "statuscode             0\n",
       "uid                    0\n",
       "protocol               0\n",
       "hit                    0\n",
       "@timestamp             0\n",
       "contentpackage         0\n",
       "host                   0\n",
       "assetnumber            0\n",
       "livechannel       269949\n",
       "contentlength          0\n",
       "dtype: int64"
      ]
     },
     "execution_count": 499,
     "metadata": {},
     "output_type": "execute_result"
    }
   ],
   "source": [
    "dataset.isna().sum()"
   ]
  },
  {
   "cell_type": "markdown",
   "metadata": {},
   "source": [
    "I will be dropping the following columns as I see they will not be necessary for this project: timetoserv, uafamily, protocol, hit, host, livechannel."
   ]
  },
  {
   "cell_type": "code",
   "execution_count": 500,
   "metadata": {},
   "outputs": [],
   "source": [
    "columnsdrop = ['timetoserv', 'uafamily', 'protocol', 'hit', 'host', 'livechannel', 'assetnumber', 'coordinates', 'statuscode', 'contentlength']\n",
    "dataset = dataset.drop(columnsdrop, axis=1)"
   ]
  },
  {
   "cell_type": "code",
   "execution_count": 501,
   "metadata": {},
   "outputs": [
    {
     "data": {
      "text/html": [
       "<div>\n",
       "<style scoped>\n",
       "    .dataframe tbody tr th:only-of-type {\n",
       "        vertical-align: middle;\n",
       "    }\n",
       "\n",
       "    .dataframe tbody tr th {\n",
       "        vertical-align: top;\n",
       "    }\n",
       "\n",
       "    .dataframe thead th {\n",
       "        text-align: right;\n",
       "    }\n",
       "</style>\n",
       "<table border=\"1\" class=\"dataframe\">\n",
       "  <thead>\n",
       "    <tr style=\"text-align: right;\">\n",
       "      <th></th>\n",
       "      <th>sid</th>\n",
       "      <th>contenttype</th>\n",
       "      <th>uid</th>\n",
       "      <th>@timestamp</th>\n",
       "      <th>contentpackage</th>\n",
       "    </tr>\n",
       "  </thead>\n",
       "  <tbody>\n",
       "    <tr>\n",
       "      <th>53</th>\n",
       "      <td>3554</td>\n",
       "      <td>text/xml</td>\n",
       "      <td>884.0</td>\n",
       "      <td>2088-05-13T09:04:13.000Z</td>\n",
       "      <td>28.0</td>\n",
       "    </tr>\n",
       "    <tr>\n",
       "      <th>217</th>\n",
       "      <td>14165</td>\n",
       "      <td>video/mp4</td>\n",
       "      <td>2205.0</td>\n",
       "      <td>2088-05-13T15:10:05.000Z</td>\n",
       "      <td>180.0</td>\n",
       "    </tr>\n",
       "    <tr>\n",
       "      <th>232</th>\n",
       "      <td>12194</td>\n",
       "      <td>video/mp4</td>\n",
       "      <td>1954.0</td>\n",
       "      <td>2088-05-13T16:17:21.000Z</td>\n",
       "      <td>134.0</td>\n",
       "    </tr>\n",
       "    <tr>\n",
       "      <th>234</th>\n",
       "      <td>16585</td>\n",
       "      <td>video/mp4</td>\n",
       "      <td>2530.0</td>\n",
       "      <td>2088-05-13T16:24:14.000Z</td>\n",
       "      <td>199.0</td>\n",
       "    </tr>\n",
       "    <tr>\n",
       "      <th>236</th>\n",
       "      <td>16585</td>\n",
       "      <td>video/mp4</td>\n",
       "      <td>2530.0</td>\n",
       "      <td>2088-05-13T16:32:53.000Z</td>\n",
       "      <td>199.0</td>\n",
       "    </tr>\n",
       "    <tr>\n",
       "      <th>...</th>\n",
       "      <td>...</td>\n",
       "      <td>...</td>\n",
       "      <td>...</td>\n",
       "      <td>...</td>\n",
       "      <td>...</td>\n",
       "    </tr>\n",
       "    <tr>\n",
       "      <th>3696221</th>\n",
       "      <td>877705</td>\n",
       "      <td>video/mpeg</td>\n",
       "      <td>1234.0</td>\n",
       "      <td>2088-05-19T01:26:49.000Z</td>\n",
       "      <td>3193.0</td>\n",
       "    </tr>\n",
       "    <tr>\n",
       "      <th>3696223</th>\n",
       "      <td>877705</td>\n",
       "      <td>video/mp4</td>\n",
       "      <td>1234.0</td>\n",
       "      <td>2088-05-19T01:40:43.000Z</td>\n",
       "      <td>3193.0</td>\n",
       "    </tr>\n",
       "    <tr>\n",
       "      <th>3696226</th>\n",
       "      <td>16535</td>\n",
       "      <td>text/xml</td>\n",
       "      <td>23337.0</td>\n",
       "      <td>2088-05-19T01:57:54.000Z</td>\n",
       "      <td>172.0</td>\n",
       "    </tr>\n",
       "    <tr>\n",
       "      <th>3696264</th>\n",
       "      <td>883882</td>\n",
       "      <td>video/mp4</td>\n",
       "      <td>26905.0</td>\n",
       "      <td>2088-05-19T03:07:44.000Z</td>\n",
       "      <td>3713.0</td>\n",
       "    </tr>\n",
       "    <tr>\n",
       "      <th>3696265</th>\n",
       "      <td>883882</td>\n",
       "      <td>video/mp4</td>\n",
       "      <td>26905.0</td>\n",
       "      <td>2088-05-19T03:08:44.000Z</td>\n",
       "      <td>3713.0</td>\n",
       "    </tr>\n",
       "  </tbody>\n",
       "</table>\n",
       "<p>269949 rows × 5 columns</p>\n",
       "</div>"
      ],
      "text/plain": [
       "            sid contenttype      uid                @timestamp  contentpackage\n",
       "53         3554    text/xml    884.0  2088-05-13T09:04:13.000Z            28.0\n",
       "217       14165   video/mp4   2205.0  2088-05-13T15:10:05.000Z           180.0\n",
       "232       12194   video/mp4   1954.0  2088-05-13T16:17:21.000Z           134.0\n",
       "234       16585   video/mp4   2530.0  2088-05-13T16:24:14.000Z           199.0\n",
       "236       16585   video/mp4   2530.0  2088-05-13T16:32:53.000Z           199.0\n",
       "...         ...         ...      ...                       ...             ...\n",
       "3696221  877705  video/mpeg   1234.0  2088-05-19T01:26:49.000Z          3193.0\n",
       "3696223  877705   video/mp4   1234.0  2088-05-19T01:40:43.000Z          3193.0\n",
       "3696226   16535    text/xml  23337.0  2088-05-19T01:57:54.000Z           172.0\n",
       "3696264  883882   video/mp4  26905.0  2088-05-19T03:07:44.000Z          3713.0\n",
       "3696265  883882   video/mp4  26905.0  2088-05-19T03:08:44.000Z          3713.0\n",
       "\n",
       "[269949 rows x 5 columns]"
      ]
     },
     "execution_count": 501,
     "metadata": {},
     "output_type": "execute_result"
    }
   ],
   "source": [
    "dataset"
   ]
  },
  {
   "cell_type": "code",
   "execution_count": 502,
   "metadata": {},
   "outputs": [],
   "source": [
    "dataset = dataset.reset_index(drop=True)"
   ]
  },
  {
   "cell_type": "code",
   "execution_count": 503,
   "metadata": {},
   "outputs": [],
   "source": [
    "#changing name of contentpackage to contentID\n",
    "dataset.rename(columns = {'contentpackage' : 'contentid'}, inplace=True)\n",
    "dataset.rename(columns = {'@timestamp' : 'date'}, inplace=True)"
   ]
  },
  {
   "cell_type": "code",
   "execution_count": 504,
   "metadata": {},
   "outputs": [
    {
     "name": "stdout",
     "output_type": "stream",
     "text": [
      "<class 'pandas.core.frame.DataFrame'>\n",
      "RangeIndex: 269949 entries, 0 to 269948\n",
      "Data columns (total 5 columns):\n",
      " #   Column       Non-Null Count   Dtype  \n",
      "---  ------       --------------   -----  \n",
      " 0   sid          269949 non-null  int64  \n",
      " 1   contenttype  269949 non-null  object \n",
      " 2   uid          269949 non-null  float64\n",
      " 3   date         269949 non-null  object \n",
      " 4   contentid    269949 non-null  float64\n",
      "dtypes: float64(2), int64(1), object(2)\n",
      "memory usage: 10.3+ MB\n"
     ]
    }
   ],
   "source": [
    "# dataset['date'] = dataset['date'].astype('datetime64')\n",
    "\n",
    "dataset['date']= pd.to_datetime(dataset['date']).dt.date\n",
    "dataset.info()"
   ]
  },
  {
   "cell_type": "markdown",
   "metadata": {},
   "source": [
    "Now, let us look at the data and get an idea after some basic cleaning"
   ]
  },
  {
   "cell_type": "code",
   "execution_count": 505,
   "metadata": {},
   "outputs": [
    {
     "name": "stdout",
     "output_type": "stream",
     "text": [
      "<class 'pandas.core.frame.DataFrame'>\n",
      "RangeIndex: 269949 entries, 0 to 269948\n",
      "Data columns (total 5 columns):\n",
      " #   Column       Non-Null Count   Dtype  \n",
      "---  ------       --------------   -----  \n",
      " 0   sid          269949 non-null  int64  \n",
      " 1   contenttype  269949 non-null  object \n",
      " 2   uid          269949 non-null  float64\n",
      " 3   date         269949 non-null  object \n",
      " 4   contentid    269949 non-null  float64\n",
      "dtypes: float64(2), int64(1), object(2)\n",
      "memory usage: 10.3+ MB\n"
     ]
    }
   ],
   "source": [
    "dataset.info()"
   ]
  },
  {
   "cell_type": "code",
   "execution_count": 506,
   "metadata": {},
   "outputs": [],
   "source": [
    "dataset['uid'] = dataset['uid'].astype('Int64')\n",
    "dataset['contentid'] = dataset['contentid'].astype('Int64')"
   ]
  },
  {
   "cell_type": "code",
   "execution_count": 507,
   "metadata": {},
   "outputs": [
    {
     "data": {
      "text/html": [
       "<div>\n",
       "<style scoped>\n",
       "    .dataframe tbody tr th:only-of-type {\n",
       "        vertical-align: middle;\n",
       "    }\n",
       "\n",
       "    .dataframe tbody tr th {\n",
       "        vertical-align: top;\n",
       "    }\n",
       "\n",
       "    .dataframe thead th {\n",
       "        text-align: right;\n",
       "    }\n",
       "</style>\n",
       "<table border=\"1\" class=\"dataframe\">\n",
       "  <thead>\n",
       "    <tr style=\"text-align: right;\">\n",
       "      <th></th>\n",
       "      <th>sid</th>\n",
       "      <th>contenttype</th>\n",
       "      <th>uid</th>\n",
       "      <th>date</th>\n",
       "      <th>contentid</th>\n",
       "    </tr>\n",
       "  </thead>\n",
       "  <tbody>\n",
       "    <tr>\n",
       "      <th>0</th>\n",
       "      <td>3554</td>\n",
       "      <td>text/xml</td>\n",
       "      <td>884</td>\n",
       "      <td>2088-05-13</td>\n",
       "      <td>28</td>\n",
       "    </tr>\n",
       "    <tr>\n",
       "      <th>1</th>\n",
       "      <td>14165</td>\n",
       "      <td>video/mp4</td>\n",
       "      <td>2205</td>\n",
       "      <td>2088-05-13</td>\n",
       "      <td>180</td>\n",
       "    </tr>\n",
       "    <tr>\n",
       "      <th>2</th>\n",
       "      <td>12194</td>\n",
       "      <td>video/mp4</td>\n",
       "      <td>1954</td>\n",
       "      <td>2088-05-13</td>\n",
       "      <td>134</td>\n",
       "    </tr>\n",
       "    <tr>\n",
       "      <th>3</th>\n",
       "      <td>16585</td>\n",
       "      <td>video/mp4</td>\n",
       "      <td>2530</td>\n",
       "      <td>2088-05-13</td>\n",
       "      <td>199</td>\n",
       "    </tr>\n",
       "    <tr>\n",
       "      <th>4</th>\n",
       "      <td>16585</td>\n",
       "      <td>video/mp4</td>\n",
       "      <td>2530</td>\n",
       "      <td>2088-05-13</td>\n",
       "      <td>199</td>\n",
       "    </tr>\n",
       "    <tr>\n",
       "      <th>...</th>\n",
       "      <td>...</td>\n",
       "      <td>...</td>\n",
       "      <td>...</td>\n",
       "      <td>...</td>\n",
       "      <td>...</td>\n",
       "    </tr>\n",
       "    <tr>\n",
       "      <th>269944</th>\n",
       "      <td>877705</td>\n",
       "      <td>video/mpeg</td>\n",
       "      <td>1234</td>\n",
       "      <td>2088-05-19</td>\n",
       "      <td>3193</td>\n",
       "    </tr>\n",
       "    <tr>\n",
       "      <th>269945</th>\n",
       "      <td>877705</td>\n",
       "      <td>video/mp4</td>\n",
       "      <td>1234</td>\n",
       "      <td>2088-05-19</td>\n",
       "      <td>3193</td>\n",
       "    </tr>\n",
       "    <tr>\n",
       "      <th>269946</th>\n",
       "      <td>16535</td>\n",
       "      <td>text/xml</td>\n",
       "      <td>23337</td>\n",
       "      <td>2088-05-19</td>\n",
       "      <td>172</td>\n",
       "    </tr>\n",
       "    <tr>\n",
       "      <th>269947</th>\n",
       "      <td>883882</td>\n",
       "      <td>video/mp4</td>\n",
       "      <td>26905</td>\n",
       "      <td>2088-05-19</td>\n",
       "      <td>3713</td>\n",
       "    </tr>\n",
       "    <tr>\n",
       "      <th>269948</th>\n",
       "      <td>883882</td>\n",
       "      <td>video/mp4</td>\n",
       "      <td>26905</td>\n",
       "      <td>2088-05-19</td>\n",
       "      <td>3713</td>\n",
       "    </tr>\n",
       "  </tbody>\n",
       "</table>\n",
       "<p>269949 rows × 5 columns</p>\n",
       "</div>"
      ],
      "text/plain": [
       "           sid contenttype    uid        date  contentid\n",
       "0         3554    text/xml    884  2088-05-13         28\n",
       "1        14165   video/mp4   2205  2088-05-13        180\n",
       "2        12194   video/mp4   1954  2088-05-13        134\n",
       "3        16585   video/mp4   2530  2088-05-13        199\n",
       "4        16585   video/mp4   2530  2088-05-13        199\n",
       "...        ...         ...    ...         ...        ...\n",
       "269944  877705  video/mpeg   1234  2088-05-19       3193\n",
       "269945  877705   video/mp4   1234  2088-05-19       3193\n",
       "269946   16535    text/xml  23337  2088-05-19        172\n",
       "269947  883882   video/mp4  26905  2088-05-19       3713\n",
       "269948  883882   video/mp4  26905  2088-05-19       3713\n",
       "\n",
       "[269949 rows x 5 columns]"
      ]
     },
     "execution_count": 507,
     "metadata": {},
     "output_type": "execute_result"
    }
   ],
   "source": [
    "dataset"
   ]
  },
  {
   "cell_type": "markdown",
   "metadata": {},
   "source": [
    "I will now count how many user Ids we have, how many session Ids, and how many content IDs."
   ]
  },
  {
   "cell_type": "code",
   "execution_count": 508,
   "metadata": {},
   "outputs": [
    {
     "name": "stdout",
     "output_type": "stream",
     "text": [
      "3669\n"
     ]
    }
   ],
   "source": [
    "#UserID count\n",
    "dataset['uid'].value_counts()\n",
    "uidCount = len(dataset['uid'].value_counts())\n",
    "print(uidCount)"
   ]
  },
  {
   "cell_type": "code",
   "execution_count": 509,
   "metadata": {},
   "outputs": [
    {
     "name": "stdout",
     "output_type": "stream",
     "text": [
      "15337\n"
     ]
    }
   ],
   "source": [
    "#SessionID count\n",
    "dataset['sid'].value_counts()\n",
    "sidCount = len(dataset['sid'].value_counts())\n",
    "print(sidCount)"
   ]
  },
  {
   "cell_type": "code",
   "execution_count": 510,
   "metadata": {},
   "outputs": [
    {
     "name": "stdout",
     "output_type": "stream",
     "text": [
      "3422\n"
     ]
    }
   ],
   "source": [
    "#content id count\n",
    "dataset['contentid'].value_counts()\n",
    "sidCount = len(dataset['contentid'].value_counts())\n",
    "print(sidCount)"
   ]
  },
  {
   "cell_type": "code",
   "execution_count": 511,
   "metadata": {},
   "outputs": [
    {
     "data": {
      "text/plain": [
       "video/mp4               198254\n",
       "video/mpeg               51330\n",
       "text/xml                 19244\n",
       "application/dash+xml      1018\n",
       "application/ttaf+xml       103\n",
       "Name: contenttype, dtype: int64"
      ]
     },
     "execution_count": 511,
     "metadata": {},
     "output_type": "execute_result"
    }
   ],
   "source": [
    "dataset['contenttype'].value_counts()"
   ]
  },
  {
   "cell_type": "markdown",
   "metadata": {},
   "source": [
    "So in this dataset, we have activity of 3668 users, 15336 sessions, and 3422 content to be viewed."
   ]
  },
  {
   "cell_type": "markdown",
   "metadata": {},
   "source": [
    "Sorting the dataset based on the uid."
   ]
  },
  {
   "cell_type": "code",
   "execution_count": 512,
   "metadata": {},
   "outputs": [],
   "source": [
    "dataset=dataset.sort_values(by = 'uid')\n",
    "dataset = dataset.reset_index(drop=True)\n"
   ]
  },
  {
   "cell_type": "code",
   "execution_count": 513,
   "metadata": {},
   "outputs": [
    {
     "data": {
      "text/html": [
       "<div>\n",
       "<style scoped>\n",
       "    .dataframe tbody tr th:only-of-type {\n",
       "        vertical-align: middle;\n",
       "    }\n",
       "\n",
       "    .dataframe tbody tr th {\n",
       "        vertical-align: top;\n",
       "    }\n",
       "\n",
       "    .dataframe thead th {\n",
       "        text-align: right;\n",
       "    }\n",
       "</style>\n",
       "<table border=\"1\" class=\"dataframe\">\n",
       "  <thead>\n",
       "    <tr style=\"text-align: right;\">\n",
       "      <th></th>\n",
       "      <th>sid</th>\n",
       "      <th>contenttype</th>\n",
       "      <th>uid</th>\n",
       "      <th>date</th>\n",
       "      <th>contentid</th>\n",
       "    </tr>\n",
       "  </thead>\n",
       "  <tbody>\n",
       "    <tr>\n",
       "      <th>0</th>\n",
       "      <td>37</td>\n",
       "      <td>video/mp4</td>\n",
       "      <td>24</td>\n",
       "      <td>2088-05-16</td>\n",
       "      <td>3528</td>\n",
       "    </tr>\n",
       "    <tr>\n",
       "      <th>1</th>\n",
       "      <td>37</td>\n",
       "      <td>video/mp4</td>\n",
       "      <td>24</td>\n",
       "      <td>2088-05-16</td>\n",
       "      <td>3528</td>\n",
       "    </tr>\n",
       "    <tr>\n",
       "      <th>2</th>\n",
       "      <td>37</td>\n",
       "      <td>video/mp4</td>\n",
       "      <td>24</td>\n",
       "      <td>2088-05-16</td>\n",
       "      <td>3528</td>\n",
       "    </tr>\n",
       "    <tr>\n",
       "      <th>3</th>\n",
       "      <td>37</td>\n",
       "      <td>video/mp4</td>\n",
       "      <td>24</td>\n",
       "      <td>2088-05-16</td>\n",
       "      <td>3528</td>\n",
       "    </tr>\n",
       "    <tr>\n",
       "      <th>4</th>\n",
       "      <td>37</td>\n",
       "      <td>video/mp4</td>\n",
       "      <td>24</td>\n",
       "      <td>2088-05-16</td>\n",
       "      <td>3528</td>\n",
       "    </tr>\n",
       "    <tr>\n",
       "      <th>...</th>\n",
       "      <td>...</td>\n",
       "      <td>...</td>\n",
       "      <td>...</td>\n",
       "      <td>...</td>\n",
       "      <td>...</td>\n",
       "    </tr>\n",
       "    <tr>\n",
       "      <th>269944</th>\n",
       "      <td>1279903</td>\n",
       "      <td>text/xml</td>\n",
       "      <td>28729</td>\n",
       "      <td>2088-05-19</td>\n",
       "      <td>2829</td>\n",
       "    </tr>\n",
       "    <tr>\n",
       "      <th>269945</th>\n",
       "      <td>1279903</td>\n",
       "      <td>text/xml</td>\n",
       "      <td>28729</td>\n",
       "      <td>2088-05-19</td>\n",
       "      <td>2829</td>\n",
       "    </tr>\n",
       "    <tr>\n",
       "      <th>269946</th>\n",
       "      <td>1279903</td>\n",
       "      <td>text/xml</td>\n",
       "      <td>28729</td>\n",
       "      <td>2088-05-19</td>\n",
       "      <td>2829</td>\n",
       "    </tr>\n",
       "    <tr>\n",
       "      <th>269947</th>\n",
       "      <td>1279903</td>\n",
       "      <td>text/xml</td>\n",
       "      <td>28729</td>\n",
       "      <td>2088-05-19</td>\n",
       "      <td>2829</td>\n",
       "    </tr>\n",
       "    <tr>\n",
       "      <th>269948</th>\n",
       "      <td>1281187</td>\n",
       "      <td>text/xml</td>\n",
       "      <td>28732</td>\n",
       "      <td>2088-05-19</td>\n",
       "      <td>3939</td>\n",
       "    </tr>\n",
       "  </tbody>\n",
       "</table>\n",
       "<p>269949 rows × 5 columns</p>\n",
       "</div>"
      ],
      "text/plain": [
       "            sid contenttype    uid        date  contentid\n",
       "0            37   video/mp4     24  2088-05-16       3528\n",
       "1            37   video/mp4     24  2088-05-16       3528\n",
       "2            37   video/mp4     24  2088-05-16       3528\n",
       "3            37   video/mp4     24  2088-05-16       3528\n",
       "4            37   video/mp4     24  2088-05-16       3528\n",
       "...         ...         ...    ...         ...        ...\n",
       "269944  1279903    text/xml  28729  2088-05-19       2829\n",
       "269945  1279903    text/xml  28729  2088-05-19       2829\n",
       "269946  1279903    text/xml  28729  2088-05-19       2829\n",
       "269947  1279903    text/xml  28729  2088-05-19       2829\n",
       "269948  1281187    text/xml  28732  2088-05-19       3939\n",
       "\n",
       "[269949 rows x 5 columns]"
      ]
     },
     "execution_count": 513,
     "metadata": {},
     "output_type": "execute_result"
    }
   ],
   "source": [
    "dataset"
   ]
  },
  {
   "cell_type": "markdown",
   "metadata": {},
   "source": [
    "# Analyzing the data #"
   ]
  },
  {
   "cell_type": "markdown",
   "metadata": {},
   "source": [
    "## Number of pages per session ##"
   ]
  },
  {
   "cell_type": "markdown",
   "metadata": {},
   "source": [
    "I will create a table that shows the number of pages per session first."
   ]
  },
  {
   "cell_type": "code",
   "execution_count": 514,
   "metadata": {},
   "outputs": [
    {
     "name": "stdout",
     "output_type": "stream",
     "text": [
      "           sid  count\n",
      "0           37     78\n",
      "1          412      1\n",
      "2          464      1\n",
      "3          649      1\n",
      "4          698    116\n",
      "...        ...    ...\n",
      "15332  1281224      1\n",
      "15333  1281415      1\n",
      "15334  1281439      1\n",
      "15335  1281464      1\n",
      "15336  1281469      1\n",
      "\n",
      "[15337 rows x 2 columns]\n"
     ]
    }
   ],
   "source": [
    "df1 = dataset.groupby(['sid'])['sid'].count().reset_index(name=\"count\")\n",
    "print(df1)"
   ]
  },
  {
   "cell_type": "code",
   "execution_count": 515,
   "metadata": {},
   "outputs": [
    {
     "data": {
      "text/plain": [
       "count    15337.000000\n",
       "mean        17.601161\n",
       "std        335.934060\n",
       "min          1.000000\n",
       "25%          1.000000\n",
       "50%          1.000000\n",
       "75%          1.000000\n",
       "max      25807.000000\n",
       "Name: count, dtype: float64"
      ]
     },
     "execution_count": 515,
     "metadata": {},
     "output_type": "execute_result"
    }
   ],
   "source": [
    "df1[\"count\"].describe()"
   ]
  },
  {
   "cell_type": "markdown",
   "metadata": {},
   "source": [
    "## Top 20 content ##"
   ]
  },
  {
   "cell_type": "code",
   "execution_count": 516,
   "metadata": {},
   "outputs": [
    {
     "name": "stdout",
     "output_type": "stream",
     "text": [
      "    contentid   hits\n",
      "0        2742  10360\n",
      "1        3276   8672\n",
      "2         692   7647\n",
      "3        1996   7461\n",
      "4         571   6777\n",
      "5        2829   6661\n",
      "6        2960   6412\n",
      "7        3244   5732\n",
      "8        3259   5635\n",
      "9        2196   5566\n",
      "10       2886   5486\n",
      "11        331   5387\n",
      "12       1620   5219\n",
      "13        163   5020\n",
      "14       1778   4687\n",
      "15       2835   4587\n",
      "16        317   4569\n",
      "17       2976   4294\n",
      "18       1579   4119\n",
      "19       1561   4047\n"
     ]
    }
   ],
   "source": [
    "df2 = dataset.groupby(['contentid'])['contentid'].count().sort_values(ascending=False).reset_index(name=\"hits\").head(20)\n",
    "print(df2)"
   ]
  },
  {
   "cell_type": "markdown",
   "metadata": {},
   "source": [
    "# Feature Engineering #"
   ]
  },
  {
   "cell_type": "markdown",
   "metadata": {},
   "source": [
    "I will be creating a LRFP table. \n",
    "L: Length feature\n",
    "R: Recency feature\n",
    "F: Frequency feature\n",
    "P: Periodicity"
   ]
  },
  {
   "cell_type": "markdown",
   "metadata": {},
   "source": [
    "## Length feature ##"
   ]
  },
  {
   "cell_type": "markdown",
   "metadata": {},
   "source": [
    "Method: Find the days between first and last session per user. (last session date - first session date)"
   ]
  },
  {
   "cell_type": "code",
   "execution_count": 517,
   "metadata": {},
   "outputs": [
    {
     "name": "stdout",
     "output_type": "stream",
     "text": [
      "        uid lastsession firstsession  length\n",
      "0        24  2088-05-16   2088-05-16       0\n",
      "1        59  2088-05-15   2088-05-15       0\n",
      "2       212  2088-05-14   2088-05-14       0\n",
      "3       292  2088-05-15   2088-05-13       2\n",
      "4       318  2088-05-16   2088-05-13       3\n",
      "...     ...         ...          ...     ...\n",
      "3664  28723  2088-05-19   2088-05-19       0\n",
      "3665  28725  2088-05-19   2088-05-19       0\n",
      "3666  28726  2088-05-19   2088-05-19       0\n",
      "3667  28729  2088-05-19   2088-05-19       0\n",
      "3668  28732  2088-05-19   2088-05-19       0\n",
      "\n",
      "[3669 rows x 4 columns]\n"
     ]
    }
   ],
   "source": [
    "df_l = pd.DataFrame().assign(uid=dataset['uid'], lastsession=dataset['date'], firstsession=dataset['date'])\n",
    "\n",
    "df_l = df_l.groupby('uid').agg({'lastsession':'max', 'firstsession':'min'})[['lastsession', 'firstsession']].reset_index()\n",
    "df_l[\"length\"] = (df_l[\"lastsession\"] - df_l[\"firstsession\"]).dt.days\n",
    "print(df_l)"
   ]
  },
  {
   "cell_type": "code",
   "execution_count": 518,
   "metadata": {},
   "outputs": [
    {
     "data": {
      "text/plain": [
       "count    3669.000000\n",
       "mean        0.587081\n",
       "std         1.295011\n",
       "min         0.000000\n",
       "25%         0.000000\n",
       "50%         0.000000\n",
       "75%         0.000000\n",
       "max         6.000000\n",
       "Name: length, dtype: float64"
      ]
     },
     "execution_count": 518,
     "metadata": {},
     "output_type": "execute_result"
    }
   ],
   "source": [
    "df_l.length.describe()"
   ]
  },
  {
   "cell_type": "code",
   "execution_count": 519,
   "metadata": {},
   "outputs": [
    {
     "name": "stderr",
     "output_type": "stream",
     "text": [
      "C:\\Users\\96279\\AppData\\Roaming\\Python\\Python310\\site-packages\\seaborn\\distributions.py:2619: FutureWarning: `distplot` is a deprecated function and will be removed in a future version. Please adapt your code to use either `displot` (a figure-level function with similar flexibility) or `histplot` (an axes-level function for histograms).\n",
      "  warnings.warn(msg, FutureWarning)\n"
     ]
    },
    {
     "data": {
      "image/png": "[encoded data removed]",
      "text/plain": [
       "<Figure size 432x288 with 1 Axes>"
      ]
     },
     "metadata": {
      "needs_background": "light"
     },
     "output_type": "display_data"
    }
   ],
   "source": [
    "x = df_l['length']\n",
    "ax = sns.distplot(x)"
   ]
  },
  {
   "cell_type": "markdown",
   "metadata": {},
   "source": [
    "## Recency Feature ##"
   ]
  },
  {
   "cell_type": "markdown",
   "metadata": {},
   "source": [
    "Recency will show the days since the last purchase. (I will consider 2088 to be the current year)"
   ]
  },
  {
   "cell_type": "code",
   "execution_count": 520,
   "metadata": {},
   "outputs": [
    {
     "name": "stdout",
     "output_type": "stream",
     "text": [
      "6 days, 0:00:00\n"
     ]
    }
   ],
   "source": [
    "timeperiod = dataset['date'].max() - dataset['date'].min()\n",
    "print (timeperiod)"
   ]
  },
  {
   "cell_type": "code",
   "execution_count": 521,
   "metadata": {},
   "outputs": [
    {
     "data": {
      "text/html": [
       "<div>\n",
       "<style scoped>\n",
       "    .dataframe tbody tr th:only-of-type {\n",
       "        vertical-align: middle;\n",
       "    }\n",
       "\n",
       "    .dataframe tbody tr th {\n",
       "        vertical-align: top;\n",
       "    }\n",
       "\n",
       "    .dataframe thead th {\n",
       "        text-align: right;\n",
       "    }\n",
       "</style>\n",
       "<table border=\"1\" class=\"dataframe\">\n",
       "  <thead>\n",
       "    <tr style=\"text-align: right;\">\n",
       "      <th></th>\n",
       "      <th>uid</th>\n",
       "      <th>recency</th>\n",
       "    </tr>\n",
       "  </thead>\n",
       "  <tbody>\n",
       "    <tr>\n",
       "      <th>0</th>\n",
       "      <td>24</td>\n",
       "      <td>24</td>\n",
       "    </tr>\n",
       "    <tr>\n",
       "      <th>1</th>\n",
       "      <td>59</td>\n",
       "      <td>25</td>\n",
       "    </tr>\n",
       "    <tr>\n",
       "      <th>2</th>\n",
       "      <td>212</td>\n",
       "      <td>26</td>\n",
       "    </tr>\n",
       "    <tr>\n",
       "      <th>3</th>\n",
       "      <td>292</td>\n",
       "      <td>25</td>\n",
       "    </tr>\n",
       "    <tr>\n",
       "      <th>4</th>\n",
       "      <td>318</td>\n",
       "      <td>24</td>\n",
       "    </tr>\n",
       "    <tr>\n",
       "      <th>...</th>\n",
       "      <td>...</td>\n",
       "      <td>...</td>\n",
       "    </tr>\n",
       "    <tr>\n",
       "      <th>3664</th>\n",
       "      <td>28723</td>\n",
       "      <td>21</td>\n",
       "    </tr>\n",
       "    <tr>\n",
       "      <th>3665</th>\n",
       "      <td>28725</td>\n",
       "      <td>21</td>\n",
       "    </tr>\n",
       "    <tr>\n",
       "      <th>3666</th>\n",
       "      <td>28726</td>\n",
       "      <td>21</td>\n",
       "    </tr>\n",
       "    <tr>\n",
       "      <th>3667</th>\n",
       "      <td>28729</td>\n",
       "      <td>21</td>\n",
       "    </tr>\n",
       "    <tr>\n",
       "      <th>3668</th>\n",
       "      <td>28732</td>\n",
       "      <td>21</td>\n",
       "    </tr>\n",
       "  </tbody>\n",
       "</table>\n",
       "<p>3669 rows × 2 columns</p>\n",
       "</div>"
      ],
      "text/plain": [
       "        uid  recency\n",
       "0        24       24\n",
       "1        59       25\n",
       "2       212       26\n",
       "3       292       25\n",
       "4       318       24\n",
       "...     ...      ...\n",
       "3664  28723       21\n",
       "3665  28725       21\n",
       "3666  28726       21\n",
       "3667  28729       21\n",
       "3668  28732       21\n",
       "\n",
       "[3669 rows x 2 columns]"
      ]
     },
     "execution_count": 521,
     "metadata": {},
     "output_type": "execute_result"
    }
   ],
   "source": [
    "today = date(2088, 6, 9)\n",
    "df_r = pd.DataFrame().assign(uid=df_l['uid'], lastsession=df_l['lastsession'])\n",
    "df_r['recency'] = (today - df_l[\"lastsession\"]).dt.days\n",
    "df_r = df_r.drop(['lastsession'], axis=1)\n",
    "df_r"
   ]
  },
  {
   "cell_type": "code",
   "execution_count": 522,
   "metadata": {},
   "outputs": [
    {
     "data": {
      "text/plain": [
       "count    3669.000000\n",
       "mean       23.769692\n",
       "std         1.673156\n",
       "min        21.000000\n",
       "25%        22.000000\n",
       "50%        24.000000\n",
       "75%        25.000000\n",
       "max        27.000000\n",
       "Name: recency, dtype: float64"
      ]
     },
     "execution_count": 522,
     "metadata": {},
     "output_type": "execute_result"
    }
   ],
   "source": [
    "df_r.recency.describe()"
   ]
  },
  {
   "cell_type": "code",
   "execution_count": 523,
   "metadata": {},
   "outputs": [
    {
     "name": "stderr",
     "output_type": "stream",
     "text": [
      "C:\\Users\\96279\\AppData\\Roaming\\Python\\Python310\\site-packages\\seaborn\\distributions.py:2619: FutureWarning: `distplot` is a deprecated function and will be removed in a future version. Please adapt your code to use either `displot` (a figure-level function with similar flexibility) or `histplot` (an axes-level function for histograms).\n",
      "  warnings.warn(msg, FutureWarning)\n"
     ]
    },
    {
     "data": {
      "image/png": "[encoded data removed]",
      "text/plain": [
       "<Figure size 432x288 with 1 Axes>"
      ]
     },
     "metadata": {
      "needs_background": "light"
     },
     "output_type": "display_data"
    }
   ],
   "source": [
    "x = df_r['recency']\n",
    "ax = sns.distplot(x)"
   ]
  },
  {
   "cell_type": "markdown",
   "metadata": {},
   "source": [
    "## Frequency Feature ##"
   ]
  },
  {
   "cell_type": "markdown",
   "metadata": {},
   "source": [
    "Frequency is the number of sessions per user."
   ]
  },
  {
   "cell_type": "code",
   "execution_count": 524,
   "metadata": {},
   "outputs": [
    {
     "name": "stdout",
     "output_type": "stream",
     "text": [
      "        uid  frequency\n",
      "0        24          1\n",
      "1        59          1\n",
      "2       212          1\n",
      "3       292         46\n",
      "4       318         37\n",
      "...     ...        ...\n",
      "3664  28723          1\n",
      "3665  28725          1\n",
      "3666  28726          1\n",
      "3667  28729          1\n",
      "3668  28732          1\n",
      "\n",
      "[3669 rows x 2 columns]\n"
     ]
    }
   ],
   "source": [
    "df_f = dataset.groupby(['uid'])['sid'].nunique().reset_index(name=\"frequency\")\n",
    "print(df_f)"
   ]
  },
  {
   "cell_type": "code",
   "execution_count": 525,
   "metadata": {},
   "outputs": [
    {
     "data": {
      "text/plain": [
       "count    3669.000000\n",
       "mean        4.300354\n",
       "std        10.030692\n",
       "min         1.000000\n",
       "25%         1.000000\n",
       "50%         1.000000\n",
       "75%         3.000000\n",
       "max       212.000000\n",
       "Name: frequency, dtype: float64"
      ]
     },
     "execution_count": 525,
     "metadata": {},
     "output_type": "execute_result"
    }
   ],
   "source": [
    "df_f.frequency.describe()"
   ]
  },
  {
   "cell_type": "code",
   "execution_count": 526,
   "metadata": {},
   "outputs": [
    {
     "name": "stderr",
     "output_type": "stream",
     "text": [
      "C:\\Users\\96279\\AppData\\Roaming\\Python\\Python310\\site-packages\\seaborn\\distributions.py:2619: FutureWarning: `distplot` is a deprecated function and will be removed in a future version. Please adapt your code to use either `displot` (a figure-level function with similar flexibility) or `histplot` (an axes-level function for histograms).\n",
      "  warnings.warn(msg, FutureWarning)\n"
     ]
    },
    {
     "data": {
      "image/png": "[encoded data removed]",
      "text/plain": [
       "<Figure size 432x288 with 1 Axes>"
      ]
     },
     "metadata": {
      "needs_background": "light"
     },
     "output_type": "display_data"
    }
   ],
   "source": [
    "x = df_f['frequency']\n",
    "ax = sns.distplot(x)"
   ]
  },
  {
   "cell_type": "markdown",
   "metadata": {},
   "source": [
    "## Periodicity Features ##"
   ]
  },
  {
   "cell_type": "markdown",
   "metadata": {},
   "source": [
    "Periodicity as the standard deviation of the intervall between two purchases"
   ]
  },
  {
   "cell_type": "code",
   "execution_count": 527,
   "metadata": {},
   "outputs": [
    {
     "data": {
      "text/html": [
       "<div>\n",
       "<style scoped>\n",
       "    .dataframe tbody tr th:only-of-type {\n",
       "        vertical-align: middle;\n",
       "    }\n",
       "\n",
       "    .dataframe tbody tr th {\n",
       "        vertical-align: top;\n",
       "    }\n",
       "\n",
       "    .dataframe thead th {\n",
       "        text-align: right;\n",
       "    }\n",
       "</style>\n",
       "<table border=\"1\" class=\"dataframe\">\n",
       "  <thead>\n",
       "    <tr style=\"text-align: right;\">\n",
       "      <th></th>\n",
       "      <th>uid</th>\n",
       "      <th>periodicity</th>\n",
       "    </tr>\n",
       "  </thead>\n",
       "  <tbody>\n",
       "    <tr>\n",
       "      <th>0</th>\n",
       "      <td>24</td>\n",
       "      <td>0.000000</td>\n",
       "    </tr>\n",
       "    <tr>\n",
       "      <th>1</th>\n",
       "      <td>59</td>\n",
       "      <td>NaN</td>\n",
       "    </tr>\n",
       "    <tr>\n",
       "      <th>2</th>\n",
       "      <td>212</td>\n",
       "      <td>0.000000</td>\n",
       "    </tr>\n",
       "    <tr>\n",
       "      <th>3</th>\n",
       "      <td>292</td>\n",
       "      <td>0.933333</td>\n",
       "    </tr>\n",
       "    <tr>\n",
       "      <th>4</th>\n",
       "      <td>318</td>\n",
       "      <td>0.916667</td>\n",
       "    </tr>\n",
       "    <tr>\n",
       "      <th>...</th>\n",
       "      <td>...</td>\n",
       "      <td>...</td>\n",
       "    </tr>\n",
       "    <tr>\n",
       "      <th>3664</th>\n",
       "      <td>28723</td>\n",
       "      <td>NaN</td>\n",
       "    </tr>\n",
       "    <tr>\n",
       "      <th>3665</th>\n",
       "      <td>28725</td>\n",
       "      <td>NaN</td>\n",
       "    </tr>\n",
       "    <tr>\n",
       "      <th>3666</th>\n",
       "      <td>28726</td>\n",
       "      <td>0.000000</td>\n",
       "    </tr>\n",
       "    <tr>\n",
       "      <th>3667</th>\n",
       "      <td>28729</td>\n",
       "      <td>0.000000</td>\n",
       "    </tr>\n",
       "    <tr>\n",
       "      <th>3668</th>\n",
       "      <td>28732</td>\n",
       "      <td>NaN</td>\n",
       "    </tr>\n",
       "  </tbody>\n",
       "</table>\n",
       "<p>3669 rows × 2 columns</p>\n",
       "</div>"
      ],
      "text/plain": [
       "        uid  periodicity\n",
       "0        24     0.000000\n",
       "1        59          NaN\n",
       "2       212     0.000000\n",
       "3       292     0.933333\n",
       "4       318     0.916667\n",
       "...     ...          ...\n",
       "3664  28723          NaN\n",
       "3665  28725          NaN\n",
       "3666  28726     0.000000\n",
       "3667  28729     0.000000\n",
       "3668  28732          NaN\n",
       "\n",
       "[3669 rows x 2 columns]"
      ]
     },
     "execution_count": 527,
     "metadata": {},
     "output_type": "execute_result"
    }
   ],
   "source": [
    "df_p = pd.DataFrame().assign(uid=dataset['uid'], date=dataset['date'])\n",
    "df_p['date'] = df_p['date'].astype('datetime64')\n",
    "\n",
    "ivtdiff = lambda x: abs(x.shift(1) - x)\n",
    "\n",
    "df_p[\"periodicity\"] = (df_p.groupby(\"uid\")[\"date\"].transform(ivtdiff)).dt.days\n",
    "df_p = df_p.drop(['date'], axis=1)\n",
    "df_p = df_p.groupby([\"uid\"])[\"periodicity\"].mean().reset_index(name=\"periodicity\")\n",
    "df_p\n"
   ]
  },
  {
   "cell_type": "code",
   "execution_count": 528,
   "metadata": {},
   "outputs": [
    {
     "data": {
      "text/plain": [
       "count    2143.000000\n",
       "mean        0.485885\n",
       "std         0.826338\n",
       "min         0.000000\n",
       "25%         0.000000\n",
       "50%         0.000000\n",
       "75%         0.800000\n",
       "max         5.000000\n",
       "Name: periodicity, dtype: float64"
      ]
     },
     "execution_count": 528,
     "metadata": {},
     "output_type": "execute_result"
    }
   ],
   "source": [
    "df_p.periodicity.describe()"
   ]
  },
  {
   "cell_type": "code",
   "execution_count": 529,
   "metadata": {},
   "outputs": [
    {
     "name": "stderr",
     "output_type": "stream",
     "text": [
      "C:\\Users\\96279\\AppData\\Roaming\\Python\\Python310\\site-packages\\seaborn\\distributions.py:2619: FutureWarning: `distplot` is a deprecated function and will be removed in a future version. Please adapt your code to use either `displot` (a figure-level function with similar flexibility) or `histplot` (an axes-level function for histograms).\n",
      "  warnings.warn(msg, FutureWarning)\n"
     ]
    },
    {
     "data": {
      "image/png": "[encoded data removed]",
      "text/plain": [
       "<Figure size 432x288 with 1 Axes>"
      ]
     },
     "metadata": {
      "needs_background": "light"
     },
     "output_type": "display_data"
    }
   ],
   "source": [
    "x = df_f['frequency']\n",
    "ax = sns.distplot(x)"
   ]
  },
  {
   "cell_type": "markdown",
   "metadata": {},
   "source": [
    "# Merging Features #"
   ]
  },
  {
   "cell_type": "code",
   "execution_count": 530,
   "metadata": {},
   "outputs": [
    {
     "data": {
      "text/html": [
       "<div>\n",
       "<style scoped>\n",
       "    .dataframe tbody tr th:only-of-type {\n",
       "        vertical-align: middle;\n",
       "    }\n",
       "\n",
       "    .dataframe tbody tr th {\n",
       "        vertical-align: top;\n",
       "    }\n",
       "\n",
       "    .dataframe thead th {\n",
       "        text-align: right;\n",
       "    }\n",
       "</style>\n",
       "<table border=\"1\" class=\"dataframe\">\n",
       "  <thead>\n",
       "    <tr style=\"text-align: right;\">\n",
       "      <th></th>\n",
       "      <th>uid</th>\n",
       "      <th>length</th>\n",
       "      <th>recency</th>\n",
       "      <th>frequency</th>\n",
       "      <th>periodicity</th>\n",
       "    </tr>\n",
       "  </thead>\n",
       "  <tbody>\n",
       "    <tr>\n",
       "      <th>0</th>\n",
       "      <td>24</td>\n",
       "      <td>0</td>\n",
       "      <td>24</td>\n",
       "      <td>1</td>\n",
       "      <td>0.000000</td>\n",
       "    </tr>\n",
       "    <tr>\n",
       "      <th>1</th>\n",
       "      <td>59</td>\n",
       "      <td>0</td>\n",
       "      <td>25</td>\n",
       "      <td>1</td>\n",
       "      <td>NaN</td>\n",
       "    </tr>\n",
       "    <tr>\n",
       "      <th>2</th>\n",
       "      <td>212</td>\n",
       "      <td>0</td>\n",
       "      <td>26</td>\n",
       "      <td>1</td>\n",
       "      <td>0.000000</td>\n",
       "    </tr>\n",
       "    <tr>\n",
       "      <th>3</th>\n",
       "      <td>292</td>\n",
       "      <td>2</td>\n",
       "      <td>25</td>\n",
       "      <td>46</td>\n",
       "      <td>0.933333</td>\n",
       "    </tr>\n",
       "    <tr>\n",
       "      <th>4</th>\n",
       "      <td>318</td>\n",
       "      <td>3</td>\n",
       "      <td>24</td>\n",
       "      <td>37</td>\n",
       "      <td>0.916667</td>\n",
       "    </tr>\n",
       "    <tr>\n",
       "      <th>...</th>\n",
       "      <td>...</td>\n",
       "      <td>...</td>\n",
       "      <td>...</td>\n",
       "      <td>...</td>\n",
       "      <td>...</td>\n",
       "    </tr>\n",
       "    <tr>\n",
       "      <th>3664</th>\n",
       "      <td>28723</td>\n",
       "      <td>0</td>\n",
       "      <td>21</td>\n",
       "      <td>1</td>\n",
       "      <td>NaN</td>\n",
       "    </tr>\n",
       "    <tr>\n",
       "      <th>3665</th>\n",
       "      <td>28725</td>\n",
       "      <td>0</td>\n",
       "      <td>21</td>\n",
       "      <td>1</td>\n",
       "      <td>NaN</td>\n",
       "    </tr>\n",
       "    <tr>\n",
       "      <th>3666</th>\n",
       "      <td>28726</td>\n",
       "      <td>0</td>\n",
       "      <td>21</td>\n",
       "      <td>1</td>\n",
       "      <td>0.000000</td>\n",
       "    </tr>\n",
       "    <tr>\n",
       "      <th>3667</th>\n",
       "      <td>28729</td>\n",
       "      <td>0</td>\n",
       "      <td>21</td>\n",
       "      <td>1</td>\n",
       "      <td>0.000000</td>\n",
       "    </tr>\n",
       "    <tr>\n",
       "      <th>3668</th>\n",
       "      <td>28732</td>\n",
       "      <td>0</td>\n",
       "      <td>21</td>\n",
       "      <td>1</td>\n",
       "      <td>NaN</td>\n",
       "    </tr>\n",
       "  </tbody>\n",
       "</table>\n",
       "<p>3669 rows × 5 columns</p>\n",
       "</div>"
      ],
      "text/plain": [
       "        uid  length  recency  frequency  periodicity\n",
       "0        24       0       24          1     0.000000\n",
       "1        59       0       25          1          NaN\n",
       "2       212       0       26          1     0.000000\n",
       "3       292       2       25         46     0.933333\n",
       "4       318       3       24         37     0.916667\n",
       "...     ...     ...      ...        ...          ...\n",
       "3664  28723       0       21          1          NaN\n",
       "3665  28725       0       21          1          NaN\n",
       "3666  28726       0       21          1     0.000000\n",
       "3667  28729       0       21          1     0.000000\n",
       "3668  28732       0       21          1          NaN\n",
       "\n",
       "[3669 rows x 5 columns]"
      ]
     },
     "execution_count": 530,
     "metadata": {},
     "output_type": "execute_result"
    }
   ],
   "source": [
    "df_lrfp = pd.merge(df_l, df_r, on=\"uid\")\n",
    "df_lrfp = pd.merge(df_lrfp, df_f, on=\"uid\")\n",
    "df_lrfp = pd.merge(df_lrfp, df_p, on=\"uid\")\n",
    "df_lrfp = df_lrfp.drop(['firstsession', 'lastsession'], axis=1)\n",
    "\n",
    "df_lrfp"
   ]
  },
  {
   "cell_type": "code",
   "execution_count": 531,
   "metadata": {},
   "outputs": [
    {
     "name": "stdout",
     "output_type": "stream",
     "text": [
      "        uid  length  recency  frequency  periodicity\n",
      "0        24       0       24          1     0.000000\n",
      "1        59       0       25          1     0.485885\n",
      "2       212       0       26          1     0.000000\n",
      "3       292       2       25         46     0.933333\n",
      "4       318       3       24         37     0.916667\n",
      "...     ...     ...      ...        ...          ...\n",
      "3664  28723       0       21          1     0.485885\n",
      "3665  28725       0       21          1     0.485885\n",
      "3666  28726       0       21          1     0.000000\n",
      "3667  28729       0       21          1     0.000000\n",
      "3668  28732       0       21          1     0.485885\n",
      "\n",
      "[3669 rows x 5 columns]\n"
     ]
    }
   ],
   "source": [
    "# alot of NaN values in periodicity\n",
    "\n",
    "pd.isna(df_lrfp[\"periodicity\"])\n",
    "\n",
    "p_mean = df_lrfp[\"periodicity\"].mean()\n",
    "\n",
    "df_lrfp[\"periodicity\"].fillna(value=p_mean, inplace=True)\n",
    "\n",
    "print(df_lrfp)"
   ]
  },
  {
   "cell_type": "markdown",
   "metadata": {},
   "source": [
    "## Removing Outliers ##"
   ]
  },
  {
   "cell_type": "code",
   "execution_count": 532,
   "metadata": {},
   "outputs": [],
   "source": [
    "for x in ['recency']:\n",
    "    q75,q25 = np.percentile(df_lrfp.loc[:,x],[75,25])\n",
    "    intr_qr = q75-q25\n",
    " \n",
    "    max = q75+(1.5*intr_qr)\n",
    "    min = q25-(1.5*intr_qr)\n",
    " \n",
    "    df_lrfp.loc[df_lrfp[x] < min,x] = np.nan\n",
    "    df_lrfp.loc[df_lrfp[x] > max,x] = np.nan"
   ]
  },
  {
   "cell_type": "code",
   "execution_count": 533,
   "metadata": {},
   "outputs": [],
   "source": [
    "for x in ['frequency']:\n",
    "    q75,q25 = np.percentile(df_lrfp.loc[:,x],[75,25])\n",
    "    intr_qr = q75-q25\n",
    " \n",
    "    max = q75+(1.5*intr_qr)\n",
    "    min = q25-(1.5*intr_qr)\n",
    " \n",
    "    df_lrfp.loc[df_lrfp[x] < min,x] = np.nan\n",
    "    df_lrfp.loc[df_lrfp[x] > max,x] = np.nan"
   ]
  },
  {
   "cell_type": "code",
   "execution_count": 534,
   "metadata": {},
   "outputs": [],
   "source": [
    "for x in ['periodicity']:\n",
    "    q75,q25 = np.percentile(df_lrfp.loc[:,x],[75,25])\n",
    "    intr_qr = q75-q25\n",
    " \n",
    "    max = q75+(1.5*intr_qr)\n",
    "    min = q25-(1.5*intr_qr)\n",
    " \n",
    "    df_lrfp.loc[df_lrfp[x] < min,x] = np.nan\n",
    "    df_lrfp.loc[df_lrfp[x] > max,x] = np.nan"
   ]
  },
  {
   "cell_type": "code",
   "execution_count": 535,
   "metadata": {},
   "outputs": [],
   "source": [
    "df_lrfp=df_lrfp.dropna()"
   ]
  },
  {
   "cell_type": "markdown",
   "metadata": {},
   "source": [
    "Now we split the metrics into segments using quantiles.We assign a score from 1 to 4 to Length, Recency, Frequency and periodicity. One is the best/highest value, and four is the lowest/worst value. A final LRFP score is calculated simply by combining individual LRFP score numbers."
   ]
  },
  {
   "cell_type": "code",
   "execution_count": 536,
   "metadata": {},
   "outputs": [],
   "source": [
    "quantiles = df_lrfp.quantile(q=[0.25,0.50,0.75])\n",
    "quantiles = quantiles.to_dict()"
   ]
  },
  {
   "cell_type": "code",
   "execution_count": 537,
   "metadata": {},
   "outputs": [],
   "source": [
    "segmented_lrfp = df_lrfp.copy()"
   ]
  },
  {
   "cell_type": "code",
   "execution_count": 538,
   "metadata": {},
   "outputs": [],
   "source": [
    "# for L and R and periodicity, the lowest the value the better it is, it means the customer is more engaged\n",
    "def LRPScore(x,p,d):\n",
    "    if x <= d[p][0.25]:\n",
    "        return 1\n",
    "    elif x <= d[p][0.50]:\n",
    "        return 2\n",
    "    elif x <= d[p][0.75]: \n",
    "        return 3\n",
    "    else:\n",
    "        return 4\n",
    "  # the higher the frequency, the better it is  \n",
    "def FScore(x,p,d):\n",
    "    if x <= d[p][0.25]:\n",
    "        return 4\n",
    "    elif x <= d[p][0.50]:\n",
    "        return 3\n",
    "    elif x <= d[p][0.75]: \n",
    "        return 2\n",
    "    else:\n",
    "        return 1"
   ]
  },
  {
   "cell_type": "code",
   "execution_count": 539,
   "metadata": {},
   "outputs": [
    {
     "data": {
      "text/html": [
       "<div>\n",
       "<style scoped>\n",
       "    .dataframe tbody tr th:only-of-type {\n",
       "        vertical-align: middle;\n",
       "    }\n",
       "\n",
       "    .dataframe tbody tr th {\n",
       "        vertical-align: top;\n",
       "    }\n",
       "\n",
       "    .dataframe thead th {\n",
       "        text-align: right;\n",
       "    }\n",
       "</style>\n",
       "<table border=\"1\" class=\"dataframe\">\n",
       "  <thead>\n",
       "    <tr style=\"text-align: right;\">\n",
       "      <th></th>\n",
       "      <th>uid</th>\n",
       "      <th>length</th>\n",
       "      <th>recency</th>\n",
       "      <th>frequency</th>\n",
       "      <th>periodicity</th>\n",
       "      <th>L_quartile</th>\n",
       "      <th>R_quartile</th>\n",
       "      <th>F_quartile</th>\n",
       "      <th>P_quartile</th>\n",
       "    </tr>\n",
       "  </thead>\n",
       "  <tbody>\n",
       "    <tr>\n",
       "      <th>0</th>\n",
       "      <td>24</td>\n",
       "      <td>0</td>\n",
       "      <td>24.0</td>\n",
       "      <td>1.0</td>\n",
       "      <td>0.000000</td>\n",
       "      <td>1</td>\n",
       "      <td>2</td>\n",
       "      <td>1</td>\n",
       "      <td>4</td>\n",
       "    </tr>\n",
       "    <tr>\n",
       "      <th>1</th>\n",
       "      <td>59</td>\n",
       "      <td>0</td>\n",
       "      <td>25.0</td>\n",
       "      <td>1.0</td>\n",
       "      <td>0.485885</td>\n",
       "      <td>1</td>\n",
       "      <td>3</td>\n",
       "      <td>1</td>\n",
       "      <td>3</td>\n",
       "    </tr>\n",
       "    <tr>\n",
       "      <th>2</th>\n",
       "      <td>212</td>\n",
       "      <td>0</td>\n",
       "      <td>26.0</td>\n",
       "      <td>1.0</td>\n",
       "      <td>0.000000</td>\n",
       "      <td>1</td>\n",
       "      <td>4</td>\n",
       "      <td>1</td>\n",
       "      <td>4</td>\n",
       "    </tr>\n",
       "    <tr>\n",
       "      <th>5</th>\n",
       "      <td>323</td>\n",
       "      <td>0</td>\n",
       "      <td>25.0</td>\n",
       "      <td>1.0</td>\n",
       "      <td>0.485885</td>\n",
       "      <td>1</td>\n",
       "      <td>3</td>\n",
       "      <td>1</td>\n",
       "      <td>3</td>\n",
       "    </tr>\n",
       "    <tr>\n",
       "      <th>7</th>\n",
       "      <td>356</td>\n",
       "      <td>0</td>\n",
       "      <td>27.0</td>\n",
       "      <td>1.0</td>\n",
       "      <td>0.000000</td>\n",
       "      <td>1</td>\n",
       "      <td>4</td>\n",
       "      <td>1</td>\n",
       "      <td>4</td>\n",
       "    </tr>\n",
       "  </tbody>\n",
       "</table>\n",
       "</div>"
      ],
      "text/plain": [
       "   uid  length  recency  frequency  periodicity  L_quartile  R_quartile  \\\n",
       "0   24       0     24.0        1.0     0.000000           1           2   \n",
       "1   59       0     25.0        1.0     0.485885           1           3   \n",
       "2  212       0     26.0        1.0     0.000000           1           4   \n",
       "5  323       0     25.0        1.0     0.485885           1           3   \n",
       "7  356       0     27.0        1.0     0.000000           1           4   \n",
       "\n",
       "   F_quartile  P_quartile  \n",
       "0           1           4  \n",
       "1           1           3  \n",
       "2           1           4  \n",
       "5           1           3  \n",
       "7           1           4  "
      ]
     },
     "execution_count": 539,
     "metadata": {},
     "output_type": "execute_result"
    }
   ],
   "source": [
    "segmented_lrfp['L_quartile'] = segmented_lrfp['length'].apply(LRPScore, args=('length',quantiles))\n",
    "segmented_lrfp['R_quartile'] = segmented_lrfp['recency'].apply(LRPScore, args=('recency',quantiles))\n",
    "segmented_lrfp['F_quartile'] = segmented_lrfp['frequency'].apply(LRPScore, args=('frequency',quantiles))\n",
    "segmented_lrfp['P_quartile'] = segmented_lrfp['periodicity'].apply(FScore, args=('periodicity',quantiles))\n",
    "segmented_lrfp.head()"
   ]
  },
  {
   "cell_type": "markdown",
   "metadata": {},
   "source": [
    "Best Length Score = 1: Best length of history a user spent on this website. Best Recency score = 1: watched very recently. Best Frequency score = 1: highest quantity sessions. Best periodicity score = 1: most consistent in using the website. "
   ]
  },
  {
   "cell_type": "code",
   "execution_count": 540,
   "metadata": {},
   "outputs": [
    {
     "data": {
      "text/html": [
       "<div>\n",
       "<style scoped>\n",
       "    .dataframe tbody tr th:only-of-type {\n",
       "        vertical-align: middle;\n",
       "    }\n",
       "\n",
       "    .dataframe tbody tr th {\n",
       "        vertical-align: top;\n",
       "    }\n",
       "\n",
       "    .dataframe thead th {\n",
       "        text-align: right;\n",
       "    }\n",
       "</style>\n",
       "<table border=\"1\" class=\"dataframe\">\n",
       "  <thead>\n",
       "    <tr style=\"text-align: right;\">\n",
       "      <th></th>\n",
       "      <th>uid</th>\n",
       "      <th>length</th>\n",
       "      <th>recency</th>\n",
       "      <th>frequency</th>\n",
       "      <th>periodicity</th>\n",
       "      <th>L_quartile</th>\n",
       "      <th>R_quartile</th>\n",
       "      <th>F_quartile</th>\n",
       "      <th>P_quartile</th>\n",
       "      <th>LRFP_Segment</th>\n",
       "    </tr>\n",
       "  </thead>\n",
       "  <tbody>\n",
       "    <tr>\n",
       "      <th>0</th>\n",
       "      <td>24</td>\n",
       "      <td>0</td>\n",
       "      <td>24.0</td>\n",
       "      <td>1.0</td>\n",
       "      <td>0.000000</td>\n",
       "      <td>1</td>\n",
       "      <td>2</td>\n",
       "      <td>1</td>\n",
       "      <td>4</td>\n",
       "      <td>1214</td>\n",
       "    </tr>\n",
       "    <tr>\n",
       "      <th>1</th>\n",
       "      <td>59</td>\n",
       "      <td>0</td>\n",
       "      <td>25.0</td>\n",
       "      <td>1.0</td>\n",
       "      <td>0.485885</td>\n",
       "      <td>1</td>\n",
       "      <td>3</td>\n",
       "      <td>1</td>\n",
       "      <td>3</td>\n",
       "      <td>1313</td>\n",
       "    </tr>\n",
       "    <tr>\n",
       "      <th>2</th>\n",
       "      <td>212</td>\n",
       "      <td>0</td>\n",
       "      <td>26.0</td>\n",
       "      <td>1.0</td>\n",
       "      <td>0.000000</td>\n",
       "      <td>1</td>\n",
       "      <td>4</td>\n",
       "      <td>1</td>\n",
       "      <td>4</td>\n",
       "      <td>1414</td>\n",
       "    </tr>\n",
       "    <tr>\n",
       "      <th>5</th>\n",
       "      <td>323</td>\n",
       "      <td>0</td>\n",
       "      <td>25.0</td>\n",
       "      <td>1.0</td>\n",
       "      <td>0.485885</td>\n",
       "      <td>1</td>\n",
       "      <td>3</td>\n",
       "      <td>1</td>\n",
       "      <td>3</td>\n",
       "      <td>1313</td>\n",
       "    </tr>\n",
       "    <tr>\n",
       "      <th>7</th>\n",
       "      <td>356</td>\n",
       "      <td>0</td>\n",
       "      <td>27.0</td>\n",
       "      <td>1.0</td>\n",
       "      <td>0.000000</td>\n",
       "      <td>1</td>\n",
       "      <td>4</td>\n",
       "      <td>1</td>\n",
       "      <td>4</td>\n",
       "      <td>1414</td>\n",
       "    </tr>\n",
       "  </tbody>\n",
       "</table>\n",
       "</div>"
      ],
      "text/plain": [
       "   uid  length  recency  frequency  periodicity  L_quartile  R_quartile  \\\n",
       "0   24       0     24.0        1.0     0.000000           1           2   \n",
       "1   59       0     25.0        1.0     0.485885           1           3   \n",
       "2  212       0     26.0        1.0     0.000000           1           4   \n",
       "5  323       0     25.0        1.0     0.485885           1           3   \n",
       "7  356       0     27.0        1.0     0.000000           1           4   \n",
       "\n",
       "   F_quartile  P_quartile LRFP_Segment  \n",
       "0           1           4         1214  \n",
       "1           1           3         1313  \n",
       "2           1           4         1414  \n",
       "5           1           3         1313  \n",
       "7           1           4         1414  "
      ]
     },
     "execution_count": 540,
     "metadata": {},
     "output_type": "execute_result"
    }
   ],
   "source": [
    "segmented_lrfp['LRFP_Segment'] = segmented_lrfp.L_quartile.map(str)+segmented_lrfp.R_quartile.map(str)+segmented_lrfp.F_quartile.map(str)+segmented_lrfp.P_quartile.map(str)\n",
    "segmented_lrfp.head()"
   ]
  },
  {
   "cell_type": "code",
   "execution_count": 541,
   "metadata": {},
   "outputs": [
    {
     "data": {
      "text/html": [
       "<div>\n",
       "<style scoped>\n",
       "    .dataframe tbody tr th:only-of-type {\n",
       "        vertical-align: middle;\n",
       "    }\n",
       "\n",
       "    .dataframe tbody tr th {\n",
       "        vertical-align: top;\n",
       "    }\n",
       "\n",
       "    .dataframe thead th {\n",
       "        text-align: right;\n",
       "    }\n",
       "</style>\n",
       "<table border=\"1\" class=\"dataframe\">\n",
       "  <thead>\n",
       "    <tr style=\"text-align: right;\">\n",
       "      <th></th>\n",
       "      <th>uid</th>\n",
       "      <th>length</th>\n",
       "      <th>recency</th>\n",
       "      <th>frequency</th>\n",
       "      <th>periodicity</th>\n",
       "      <th>L_quartile</th>\n",
       "      <th>R_quartile</th>\n",
       "      <th>F_quartile</th>\n",
       "      <th>P_quartile</th>\n",
       "      <th>LRFP_Segment</th>\n",
       "      <th>LRFP_Score</th>\n",
       "    </tr>\n",
       "  </thead>\n",
       "  <tbody>\n",
       "    <tr>\n",
       "      <th>0</th>\n",
       "      <td>24</td>\n",
       "      <td>0</td>\n",
       "      <td>24.0</td>\n",
       "      <td>1.0</td>\n",
       "      <td>0.000000</td>\n",
       "      <td>1</td>\n",
       "      <td>2</td>\n",
       "      <td>1</td>\n",
       "      <td>4</td>\n",
       "      <td>1214</td>\n",
       "      <td>8</td>\n",
       "    </tr>\n",
       "    <tr>\n",
       "      <th>1</th>\n",
       "      <td>59</td>\n",
       "      <td>0</td>\n",
       "      <td>25.0</td>\n",
       "      <td>1.0</td>\n",
       "      <td>0.485885</td>\n",
       "      <td>1</td>\n",
       "      <td>3</td>\n",
       "      <td>1</td>\n",
       "      <td>3</td>\n",
       "      <td>1313</td>\n",
       "      <td>8</td>\n",
       "    </tr>\n",
       "    <tr>\n",
       "      <th>2</th>\n",
       "      <td>212</td>\n",
       "      <td>0</td>\n",
       "      <td>26.0</td>\n",
       "      <td>1.0</td>\n",
       "      <td>0.000000</td>\n",
       "      <td>1</td>\n",
       "      <td>4</td>\n",
       "      <td>1</td>\n",
       "      <td>4</td>\n",
       "      <td>1414</td>\n",
       "      <td>10</td>\n",
       "    </tr>\n",
       "    <tr>\n",
       "      <th>5</th>\n",
       "      <td>323</td>\n",
       "      <td>0</td>\n",
       "      <td>25.0</td>\n",
       "      <td>1.0</td>\n",
       "      <td>0.485885</td>\n",
       "      <td>1</td>\n",
       "      <td>3</td>\n",
       "      <td>1</td>\n",
       "      <td>3</td>\n",
       "      <td>1313</td>\n",
       "      <td>8</td>\n",
       "    </tr>\n",
       "    <tr>\n",
       "      <th>7</th>\n",
       "      <td>356</td>\n",
       "      <td>0</td>\n",
       "      <td>27.0</td>\n",
       "      <td>1.0</td>\n",
       "      <td>0.000000</td>\n",
       "      <td>1</td>\n",
       "      <td>4</td>\n",
       "      <td>1</td>\n",
       "      <td>4</td>\n",
       "      <td>1414</td>\n",
       "      <td>10</td>\n",
       "    </tr>\n",
       "  </tbody>\n",
       "</table>\n",
       "</div>"
      ],
      "text/plain": [
       "   uid  length  recency  frequency  periodicity  L_quartile  R_quartile  \\\n",
       "0   24       0     24.0        1.0     0.000000           1           2   \n",
       "1   59       0     25.0        1.0     0.485885           1           3   \n",
       "2  212       0     26.0        1.0     0.000000           1           4   \n",
       "5  323       0     25.0        1.0     0.485885           1           3   \n",
       "7  356       0     27.0        1.0     0.000000           1           4   \n",
       "\n",
       "   F_quartile  P_quartile LRFP_Segment  LRFP_Score  \n",
       "0           1           4         1214           8  \n",
       "1           1           3         1313           8  \n",
       "2           1           4         1414          10  \n",
       "5           1           3         1313           8  \n",
       "7           1           4         1414          10  "
      ]
     },
     "execution_count": 541,
     "metadata": {},
     "output_type": "execute_result"
    }
   ],
   "source": [
    "segmented_lrfp['LRFP_Score'] = segmented_lrfp[['L_quartile','R_quartile','F_quartile','P_quartile']].sum(axis=1)\n",
    "segmented_lrfp.head()"
   ]
  },
  {
   "cell_type": "code",
   "execution_count": 542,
   "metadata": {},
   "outputs": [
    {
     "name": "stdout",
     "output_type": "stream",
     "text": [
      "Most Active Users:  1957\n",
      "Oldest Users:  2722\n",
      "Most likely to visit the site again :  797\n",
      "Least Active Users:  541\n"
     ]
    }
   ],
   "source": [
    "print('Most Active Users: ',len(segmented_lrfp[segmented_lrfp['F_quartile']==1]))\n",
    "print('Oldest Users: ',len(segmented_lrfp[segmented_lrfp['L_quartile']==1]))\n",
    "print('Most likely to visit the site again : ',len(segmented_lrfp[segmented_lrfp['R_quartile']==1]))\n",
    "print('Least Active Users: ',len(segmented_lrfp[segmented_lrfp['F_quartile']==4]))"
   ]
  },
  {
   "cell_type": "code",
   "execution_count": 543,
   "metadata": {},
   "outputs": [
    {
     "data": {
      "text/plain": [
       "array([ 8, 10,  9, 13,  7, 12, 15, 11,  6, 14], dtype=int64)"
      ]
     },
     "execution_count": 543,
     "metadata": {},
     "output_type": "execute_result"
    }
   ],
   "source": [
    "segmented_lrfp['LRFP_Score'].unique()"
   ]
  },
  {
   "cell_type": "code",
   "execution_count": 544,
   "metadata": {},
   "outputs": [
    {
     "data": {
      "text/html": [
       "<div>\n",
       "<style scoped>\n",
       "    .dataframe tbody tr th:only-of-type {\n",
       "        vertical-align: middle;\n",
       "    }\n",
       "\n",
       "    .dataframe tbody tr th {\n",
       "        vertical-align: top;\n",
       "    }\n",
       "\n",
       "    .dataframe thead th {\n",
       "        text-align: right;\n",
       "    }\n",
       "</style>\n",
       "<table border=\"1\" class=\"dataframe\">\n",
       "  <thead>\n",
       "    <tr style=\"text-align: right;\">\n",
       "      <th></th>\n",
       "      <th>length</th>\n",
       "      <th>recency</th>\n",
       "      <th>frequency</th>\n",
       "      <th>periodicity</th>\n",
       "    </tr>\n",
       "    <tr>\n",
       "      <th>LRFP_Score</th>\n",
       "      <th></th>\n",
       "      <th></th>\n",
       "      <th></th>\n",
       "      <th></th>\n",
       "    </tr>\n",
       "  </thead>\n",
       "  <tbody>\n",
       "    <tr>\n",
       "      <th>6</th>\n",
       "      <td>0.0</td>\n",
       "      <td>21.9</td>\n",
       "      <td>1.0</td>\n",
       "      <td>0.5</td>\n",
       "    </tr>\n",
       "    <tr>\n",
       "      <th>7</th>\n",
       "      <td>0.0</td>\n",
       "      <td>23.3</td>\n",
       "      <td>1.0</td>\n",
       "      <td>0.4</td>\n",
       "    </tr>\n",
       "    <tr>\n",
       "      <th>8</th>\n",
       "      <td>0.1</td>\n",
       "      <td>24.5</td>\n",
       "      <td>1.0</td>\n",
       "      <td>0.3</td>\n",
       "    </tr>\n",
       "    <tr>\n",
       "      <th>9</th>\n",
       "      <td>0.1</td>\n",
       "      <td>25.2</td>\n",
       "      <td>1.2</td>\n",
       "      <td>0.3</td>\n",
       "    </tr>\n",
       "    <tr>\n",
       "      <th>10</th>\n",
       "      <td>0.3</td>\n",
       "      <td>23.6</td>\n",
       "      <td>2.5</td>\n",
       "      <td>0.1</td>\n",
       "    </tr>\n",
       "    <tr>\n",
       "      <th>11</th>\n",
       "      <td>0.4</td>\n",
       "      <td>23.9</td>\n",
       "      <td>3.4</td>\n",
       "      <td>0.1</td>\n",
       "    </tr>\n",
       "    <tr>\n",
       "      <th>12</th>\n",
       "      <td>0.3</td>\n",
       "      <td>25.3</td>\n",
       "      <td>3.1</td>\n",
       "      <td>0.1</td>\n",
       "    </tr>\n",
       "    <tr>\n",
       "      <th>13</th>\n",
       "      <td>0.3</td>\n",
       "      <td>26.0</td>\n",
       "      <td>4.0</td>\n",
       "      <td>0.1</td>\n",
       "    </tr>\n",
       "    <tr>\n",
       "      <th>14</th>\n",
       "      <td>1.0</td>\n",
       "      <td>25.1</td>\n",
       "      <td>4.3</td>\n",
       "      <td>0.3</td>\n",
       "    </tr>\n",
       "    <tr>\n",
       "      <th>15</th>\n",
       "      <td>1.0</td>\n",
       "      <td>26.0</td>\n",
       "      <td>5.0</td>\n",
       "      <td>0.3</td>\n",
       "    </tr>\n",
       "  </tbody>\n",
       "</table>\n",
       "</div>"
      ],
      "text/plain": [
       "            length  recency  frequency  periodicity\n",
       "LRFP_Score                                         \n",
       "6              0.0     21.9        1.0          0.5\n",
       "7              0.0     23.3        1.0          0.4\n",
       "8              0.1     24.5        1.0          0.3\n",
       "9              0.1     25.2        1.2          0.3\n",
       "10             0.3     23.6        2.5          0.1\n",
       "11             0.4     23.9        3.4          0.1\n",
       "12             0.3     25.3        3.1          0.1\n",
       "13             0.3     26.0        4.0          0.1\n",
       "14             1.0     25.1        4.3          0.3\n",
       "15             1.0     26.0        5.0          0.3"
      ]
     },
     "execution_count": 544,
     "metadata": {},
     "output_type": "execute_result"
    }
   ],
   "source": [
    "segmented_lrfp.groupby('LRFP_Score').agg({\n",
    "    'length': 'mean',\n",
    "    'recency': 'mean',\n",
    "    'frequency': 'mean', \n",
    "    'periodicity' : 'mean'}).round(1)"
   ]
  },
  {
   "cell_type": "markdown",
   "metadata": {},
   "source": [
    "# K-Means Clustering #"
   ]
  },
  {
   "cell_type": "markdown",
   "metadata": {},
   "source": [
    "For k-means to work well, the data distribution should not be skewed, and standarized (mean of 0 and std of 1). And as we saw from figures above, the data is highly skewed to the left."
   ]
  },
  {
   "cell_type": "code",
   "execution_count": 545,
   "metadata": {},
   "outputs": [],
   "source": [
    "scaled_df = pd.DataFrame().assign(uid=segmented_lrfp['uid'] ,length=segmented_lrfp['length'], frequency=segmented_lrfp['frequency'], recency=segmented_lrfp['recency'] ,periodicity=segmented_lrfp['periodicity'])"
   ]
  },
  {
   "cell_type": "code",
   "execution_count": 546,
   "metadata": {},
   "outputs": [],
   "source": [
    "scaler = MinMaxScaler()\n",
    "# scaler.fit(scaled_df[['length', 'recency', 'frequency', 'periodicity']])\n",
    "# scaled = scaler.fit_transform(scaled_df[['length', 'recency', 'frequency', 'periodicity']]).round(3)\n",
    "# scaled_df = pd.DataFrame(scaled, columns=scaled_df.columns)\n",
    "scaled_df[['length' ,'frequency', 'recency', 'periodicity']] = scaler.fit_transform(scaled_df[['length', 'frequency', 'recency', 'periodicity']]).round(3)"
   ]
  },
  {
   "cell_type": "code",
   "execution_count": 547,
   "metadata": {},
   "outputs": [],
   "source": [
    "# #Data distribution after data normalization for Recency\n",
    "# Length_Plot = scaled_df['length']\n",
    "# ax = sns.distplot(Length_Plot)"
   ]
  },
  {
   "cell_type": "code",
   "execution_count": 548,
   "metadata": {},
   "outputs": [
    {
     "name": "stderr",
     "output_type": "stream",
     "text": [
      "C:\\Users\\96279\\AppData\\Roaming\\Python\\Python310\\site-packages\\seaborn\\distributions.py:2619: FutureWarning: `distplot` is a deprecated function and will be removed in a future version. Please adapt your code to use either `displot` (a figure-level function with similar flexibility) or `histplot` (an axes-level function for histograms).\n",
      "  warnings.warn(msg, FutureWarning)\n"
     ]
    },
    {
     "data": {
      "image/png": "[encoded data removed]",
      "text/plain": [
       "<Figure size 432x288 with 1 Axes>"
      ]
     },
     "metadata": {
      "needs_background": "light"
     },
     "output_type": "display_data"
    }
   ],
   "source": [
    "Frequency_Plot = scaled_df['frequency']\n",
    "ax = sns.distplot(Frequency_Plot)"
   ]
  },
  {
   "cell_type": "code",
   "execution_count": 549,
   "metadata": {},
   "outputs": [
    {
     "name": "stderr",
     "output_type": "stream",
     "text": [
      "C:\\Users\\96279\\AppData\\Roaming\\Python\\Python310\\site-packages\\seaborn\\distributions.py:2619: FutureWarning: `distplot` is a deprecated function and will be removed in a future version. Please adapt your code to use either `displot` (a figure-level function with similar flexibility) or `histplot` (an axes-level function for histograms).\n",
      "  warnings.warn(msg, FutureWarning)\n"
     ]
    },
    {
     "data": {
      "image/png": "[encoded data removed]",
      "text/plain": [
       "<Figure size 432x288 with 1 Axes>"
      ]
     },
     "metadata": {
      "needs_background": "light"
     },
     "output_type": "display_data"
    }
   ],
   "source": [
    "Recency_Plot = scaled_df['recency']\n",
    "ax = sns.distplot(Recency_Plot)"
   ]
  },
  {
   "cell_type": "code",
   "execution_count": 550,
   "metadata": {},
   "outputs": [
    {
     "name": "stderr",
     "output_type": "stream",
     "text": [
      "C:\\Users\\96279\\AppData\\Roaming\\Python\\Python310\\site-packages\\seaborn\\distributions.py:2619: FutureWarning: `distplot` is a deprecated function and will be removed in a future version. Please adapt your code to use either `displot` (a figure-level function with similar flexibility) or `histplot` (an axes-level function for histograms).\n",
      "  warnings.warn(msg, FutureWarning)\n"
     ]
    },
    {
     "data": {
      "image/png": "[encoded data removed]",
      "text/plain": [
       "<Figure size 432x288 with 1 Axes>"
      ]
     },
     "metadata": {
      "needs_background": "light"
     },
     "output_type": "display_data"
    }
   ],
   "source": [
    "Periodicity_Plot = scaled_df['periodicity']\n",
    "ax = sns.distplot(Periodicity_Plot)"
   ]
  },
  {
   "cell_type": "markdown",
   "metadata": {},
   "source": [
    "## Use PCA to reduce features ##"
   ]
  },
  {
   "cell_type": "code",
   "execution_count": 551,
   "metadata": {},
   "outputs": [
    {
     "data": {
      "text/html": [
       "<style>#sk-container-id-15 {color: black;background-color: white;}#sk-container-id-15 pre{padding: 0;}#sk-container-id-15 div.sk-toggleable {background-color: white;}#sk-container-id-15 label.sk-toggleable__label {cursor: pointer;display: block;width: 100%;margin-bottom: 0;padding: 0.3em;box-sizing: border-box;text-align: center;}#sk-container-id-15 label.sk-toggleable__label-arrow:before {content: \"▸\";float: left;margin-right: 0.25em;color: #696969;}#sk-container-id-15 label.sk-toggleable__label-arrow:hover:before {color: black;}#sk-container-id-15 div.sk-estimator:hover label.sk-toggleable__label-arrow:before {color: black;}#sk-container-id-15 div.sk-toggleable__content {max-height: 0;max-width: 0;overflow: hidden;text-align: left;background-color: #f0f8ff;}#sk-container-id-15 div.sk-toggleable__content pre {margin: 0.2em;color: black;border-radius: 0.25em;background-color: #f0f8ff;}#sk-container-id-15 input.sk-toggleable__control:checked~div.sk-toggleable__content {max-height: 200px;max-width: 100%;overflow: auto;}#sk-container-id-15 input.sk-toggleable__control:checked~label.sk-toggleable__label-arrow:before {content: \"▾\";}#sk-container-id-15 div.sk-estimator input.sk-toggleable__control:checked~label.sk-toggleable__label {background-color: #d4ebff;}#sk-container-id-15 div.sk-label input.sk-toggleable__control:checked~label.sk-toggleable__label {background-color: #d4ebff;}#sk-container-id-15 input.sk-hidden--visually {border: 0;clip: rect(1px 1px 1px 1px);clip: rect(1px, 1px, 1px, 1px);height: 1px;margin: -1px;overflow: hidden;padding: 0;position: absolute;width: 1px;}#sk-container-id-15 div.sk-estimator {font-family: monospace;background-color: #f0f8ff;border: 1px dotted black;border-radius: 0.25em;box-sizing: border-box;margin-bottom: 0.5em;}#sk-container-id-15 div.sk-estimator:hover {background-color: #d4ebff;}#sk-container-id-15 div.sk-parallel-item::after {content: \"\";width: 100%;border-bottom: 1px solid gray;flex-grow: 1;}#sk-container-id-15 div.sk-label:hover label.sk-toggleable__label {background-color: #d4ebff;}#sk-container-id-15 div.sk-serial::before {content: \"\";position: absolute;border-left: 1px solid gray;box-sizing: border-box;top: 0;bottom: 0;left: 50%;z-index: 0;}#sk-container-id-15 div.sk-serial {display: flex;flex-direction: column;align-items: center;background-color: white;padding-right: 0.2em;padding-left: 0.2em;position: relative;}#sk-container-id-15 div.sk-item {position: relative;z-index: 1;}#sk-container-id-15 div.sk-parallel {display: flex;align-items: stretch;justify-content: center;background-color: white;position: relative;}#sk-container-id-15 div.sk-item::before, #sk-container-id-15 div.sk-parallel-item::before {content: \"\";position: absolute;border-left: 1px solid gray;box-sizing: border-box;top: 0;bottom: 0;left: 50%;z-index: -1;}#sk-container-id-15 div.sk-parallel-item {display: flex;flex-direction: column;z-index: 1;position: relative;background-color: white;}#sk-container-id-15 div.sk-parallel-item:first-child::after {align-self: flex-end;width: 50%;}#sk-container-id-15 div.sk-parallel-item:last-child::after {align-self: flex-start;width: 50%;}#sk-container-id-15 div.sk-parallel-item:only-child::after {width: 0;}#sk-container-id-15 div.sk-dashed-wrapped {border: 1px dashed gray;margin: 0 0.4em 0.5em 0.4em;box-sizing: border-box;padding-bottom: 0.4em;background-color: white;}#sk-container-id-15 div.sk-label label {font-family: monospace;font-weight: bold;display: inline-block;line-height: 1.2em;}#sk-container-id-15 div.sk-label-container {text-align: center;}#sk-container-id-15 div.sk-container {/* jupyter's `normalize.less` sets `[hidden] { display: none; }` but bootstrap.min.css set `[hidden] { display: none !important; }` so we also need the `!important` here to be able to override the default hidden behavior on the sphinx rendered scikit-learn.org. See: https://github.com/scikit-learn/scikit-learn/issues/21755 */display: inline-block !important;position: relative;}#sk-container-id-15 div.sk-text-repr-fallback {display: none;}</style><div id=\"sk-container-id-15\" class=\"sk-top-container\"><div class=\"sk-text-repr-fallback\"><pre>PCA()</pre><b>In a Jupyter environment, please rerun this cell to show the HTML representation or trust the notebook. <br />On GitHub, the HTML representation is unable to render, please try loading this page with nbviewer.org.</b></div><div class=\"sk-container\" hidden><div class=\"sk-item\"><div class=\"sk-estimator sk-toggleable\"><input class=\"sk-toggleable__control sk-hidden--visually\" id=\"sk-estimator-id-15\" type=\"checkbox\" checked><label for=\"sk-estimator-id-15\" class=\"sk-toggleable__label sk-toggleable__label-arrow\">PCA</label><div class=\"sk-toggleable__content\"><pre>PCA()</pre></div></div></div></div></div>"
      ],
      "text/plain": [
       "PCA()"
      ]
     },
     "execution_count": 551,
     "metadata": {},
     "output_type": "execute_result"
    }
   ],
   "source": [
    "pca = PCA()\n",
    "pca.fit(scaled_df[['length' ,'frequency', 'recency', 'periodicity']])"
   ]
  },
  {
   "cell_type": "markdown",
   "metadata": {},
   "source": [
    "how many features we will keep?"
   ]
  },
  {
   "cell_type": "code",
   "execution_count": 552,
   "metadata": {},
   "outputs": [
    {
     "data": {
      "text/plain": [
       "array([0.39632131, 0.36804635, 0.20875801, 0.02687433])"
      ]
     },
     "execution_count": 552,
     "metadata": {},
     "output_type": "execute_result"
    }
   ],
   "source": [
    "pca.explained_variance_ratio_\n",
    "\n",
    "#length and frequency are of highest importance"
   ]
  },
  {
   "cell_type": "code",
   "execution_count": 553,
   "metadata": {},
   "outputs": [
    {
     "data": {
      "text/plain": [
       "Text(0, 0.5, 'Cumulative explained Variance')"
      ]
     },
     "execution_count": 553,
     "metadata": {},
     "output_type": "execute_result"
    },
    {
     "data": {
      "image/png": "[encoded data removed]",
      "text/plain": [
       "<Figure size 720x576 with 1 Axes>"
      ]
     },
     "metadata": {
      "needs_background": "light"
     },
     "output_type": "display_data"
    }
   ],
   "source": [
    "plt.figure(figsize = (10,8))\n",
    "plt.plot(range(1,5), pca.explained_variance_ratio_.cumsum(), marker = 'o', linestyle = '--')\n",
    "plt.title('Explained Variance by Components')\n",
    "plt.xlabel('Number of components')\n",
    "plt.ylabel('Cumulative explained Variance')"
   ]
  },
  {
   "cell_type": "markdown",
   "metadata": {},
   "source": [
    "The graph shows the amount of variance captured (on the y-axis) depending on the number of components we include (the x-axis). A rule of thumb is to preserve around 80 % of the variance. So, in this instance, I decide to keep 2 components."
   ]
  },
  {
   "cell_type": "markdown",
   "metadata": {},
   "source": [
    "I will perform PCA with the chosen number of components (2)"
   ]
  },
  {
   "cell_type": "code",
   "execution_count": 554,
   "metadata": {},
   "outputs": [
    {
     "data": {
      "text/html": [
       "<style>#sk-container-id-16 {color: black;background-color: white;}#sk-container-id-16 pre{padding: 0;}#sk-container-id-16 div.sk-toggleable {background-color: white;}#sk-container-id-16 label.sk-toggleable__label {cursor: pointer;display: block;width: 100%;margin-bottom: 0;padding: 0.3em;box-sizing: border-box;text-align: center;}#sk-container-id-16 label.sk-toggleable__label-arrow:before {content: \"▸\";float: left;margin-right: 0.25em;color: #696969;}#sk-container-id-16 label.sk-toggleable__label-arrow:hover:before {color: black;}#sk-container-id-16 div.sk-estimator:hover label.sk-toggleable__label-arrow:before {color: black;}#sk-container-id-16 div.sk-toggleable__content {max-height: 0;max-width: 0;overflow: hidden;text-align: left;background-color: #f0f8ff;}#sk-container-id-16 div.sk-toggleable__content pre {margin: 0.2em;color: black;border-radius: 0.25em;background-color: #f0f8ff;}#sk-container-id-16 input.sk-toggleable__control:checked~div.sk-toggleable__content {max-height: 200px;max-width: 100%;overflow: auto;}#sk-container-id-16 input.sk-toggleable__control:checked~label.sk-toggleable__label-arrow:before {content: \"▾\";}#sk-container-id-16 div.sk-estimator input.sk-toggleable__control:checked~label.sk-toggleable__label {background-color: #d4ebff;}#sk-container-id-16 div.sk-label input.sk-toggleable__control:checked~label.sk-toggleable__label {background-color: #d4ebff;}#sk-container-id-16 input.sk-hidden--visually {border: 0;clip: rect(1px 1px 1px 1px);clip: rect(1px, 1px, 1px, 1px);height: 1px;margin: -1px;overflow: hidden;padding: 0;position: absolute;width: 1px;}#sk-container-id-16 div.sk-estimator {font-family: monospace;background-color: #f0f8ff;border: 1px dotted black;border-radius: 0.25em;box-sizing: border-box;margin-bottom: 0.5em;}#sk-container-id-16 div.sk-estimator:hover {background-color: #d4ebff;}#sk-container-id-16 div.sk-parallel-item::after {content: \"\";width: 100%;border-bottom: 1px solid gray;flex-grow: 1;}#sk-container-id-16 div.sk-label:hover label.sk-toggleable__label {background-color: #d4ebff;}#sk-container-id-16 div.sk-serial::before {content: \"\";position: absolute;border-left: 1px solid gray;box-sizing: border-box;top: 0;bottom: 0;left: 50%;z-index: 0;}#sk-container-id-16 div.sk-serial {display: flex;flex-direction: column;align-items: center;background-color: white;padding-right: 0.2em;padding-left: 0.2em;position: relative;}#sk-container-id-16 div.sk-item {position: relative;z-index: 1;}#sk-container-id-16 div.sk-parallel {display: flex;align-items: stretch;justify-content: center;background-color: white;position: relative;}#sk-container-id-16 div.sk-item::before, #sk-container-id-16 div.sk-parallel-item::before {content: \"\";position: absolute;border-left: 1px solid gray;box-sizing: border-box;top: 0;bottom: 0;left: 50%;z-index: -1;}#sk-container-id-16 div.sk-parallel-item {display: flex;flex-direction: column;z-index: 1;position: relative;background-color: white;}#sk-container-id-16 div.sk-parallel-item:first-child::after {align-self: flex-end;width: 50%;}#sk-container-id-16 div.sk-parallel-item:last-child::after {align-self: flex-start;width: 50%;}#sk-container-id-16 div.sk-parallel-item:only-child::after {width: 0;}#sk-container-id-16 div.sk-dashed-wrapped {border: 1px dashed gray;margin: 0 0.4em 0.5em 0.4em;box-sizing: border-box;padding-bottom: 0.4em;background-color: white;}#sk-container-id-16 div.sk-label label {font-family: monospace;font-weight: bold;display: inline-block;line-height: 1.2em;}#sk-container-id-16 div.sk-label-container {text-align: center;}#sk-container-id-16 div.sk-container {/* jupyter's `normalize.less` sets `[hidden] { display: none; }` but bootstrap.min.css set `[hidden] { display: none !important; }` so we also need the `!important` here to be able to override the default hidden behavior on the sphinx rendered scikit-learn.org. See: https://github.com/scikit-learn/scikit-learn/issues/21755 */display: inline-block !important;position: relative;}#sk-container-id-16 div.sk-text-repr-fallback {display: none;}</style><div id=\"sk-container-id-16\" class=\"sk-top-container\"><div class=\"sk-text-repr-fallback\"><pre>PCA(n_components=2)</pre><b>In a Jupyter environment, please rerun this cell to show the HTML representation or trust the notebook. <br />On GitHub, the HTML representation is unable to render, please try loading this page with nbviewer.org.</b></div><div class=\"sk-container\" hidden><div class=\"sk-item\"><div class=\"sk-estimator sk-toggleable\"><input class=\"sk-toggleable__control sk-hidden--visually\" id=\"sk-estimator-id-16\" type=\"checkbox\" checked><label for=\"sk-estimator-id-16\" class=\"sk-toggleable__label sk-toggleable__label-arrow\">PCA</label><div class=\"sk-toggleable__content\"><pre>PCA(n_components=2)</pre></div></div></div></div></div>"
      ],
      "text/plain": [
       "PCA(n_components=2)"
      ]
     },
     "execution_count": 554,
     "metadata": {},
     "output_type": "execute_result"
    }
   ],
   "source": [
    "pca = PCA(n_components=2)\n",
    "pca.fit(scaled_df[['length' ,'frequency', 'recency', 'periodicity']])"
   ]
  },
  {
   "cell_type": "markdown",
   "metadata": {},
   "source": [
    "We need only the calculated resulting components scores for the elements in our data set:"
   ]
  },
  {
   "cell_type": "code",
   "execution_count": 555,
   "metadata": {},
   "outputs": [
    {
     "data": {
      "text/plain": [
       "array([[-0.0343088 ,  0.0446705 ],\n",
       "       [-0.22658029, -0.139455  ],\n",
       "       [-0.34628921,  0.15030996],\n",
       "       ...,\n",
       "       [ 0.43413025, -0.11394731],\n",
       "       [ 0.43413025, -0.11394731],\n",
       "       [ 0.39831741, -0.35105116]])"
      ]
     },
     "execution_count": 555,
     "metadata": {},
     "output_type": "execute_result"
    }
   ],
   "source": [
    "pca.transform(scaled_df[['length' ,'frequency', 'recency', 'periodicity']])"
   ]
  },
  {
   "cell_type": "code",
   "execution_count": 556,
   "metadata": {},
   "outputs": [],
   "source": [
    "scores_pca = pca.transform(scaled_df[['length' ,'frequency', 'recency', 'periodicity']])"
   ]
  },
  {
   "cell_type": "markdown",
   "metadata": {},
   "source": [
    "First, however, we must decide how many clustering solutions we’d test.\n",
    "There is no general ruling on this issue. It really depends on the data. In our case, we test an algorithm with up to 20 clusters.\n"
   ]
  },
  {
   "cell_type": "code",
   "execution_count": 557,
   "metadata": {},
   "outputs": [],
   "source": [
    "wcss = []\n",
    "for i in range(1,21):\n",
    "    kmeans_pca = KMeans(n_clusters=i, init = 'k-means++', random_state = 42)\n",
    "    kmeans_pca.fit(scores_pca)\n",
    "    wcss.append(kmeans_pca.inertia_)"
   ]
  },
  {
   "cell_type": "markdown",
   "metadata": {},
   "source": [
    "The next step involves plotting the WCSS against the number of components on a graph."
   ]
  },
  {
   "cell_type": "code",
   "execution_count": 558,
   "metadata": {},
   "outputs": [
    {
     "data": {
      "image/png": "[encoded data removed]",
      "text/plain": [
       "<Figure size 720x720 with 1 Axes>"
      ]
     },
     "metadata": {
      "needs_background": "light"
     },
     "output_type": "display_data"
    }
   ],
   "source": [
    "plt.figure(figsize=(10,10))\n",
    "plt.plot(range(1, 21), wcss, marker = 'o', linestyle='--')\n",
    "plt.xlabel('Number of Clusters')\n",
    "plt.ylabel('WCSS')\n",
    "plt.title('k-means with PCA Clustering')\n",
    "plt.show()"
   ]
  },
  {
   "cell_type": "markdown",
   "metadata": {},
   "source": [
    "And from this graph, we determine the number of clusters we’d like to keep. To that effect, we use the Elbow-method. In this instance, the kink comes at the 3 or 4 clusters mark. So, we’ll be keeping a 3-cluster solution."
   ]
  },
  {
   "cell_type": "code",
   "execution_count": 559,
   "metadata": {},
   "outputs": [
    {
     "data": {
      "text/html": [
       "<style>#sk-container-id-17 {color: black;background-color: white;}#sk-container-id-17 pre{padding: 0;}#sk-container-id-17 div.sk-toggleable {background-color: white;}#sk-container-id-17 label.sk-toggleable__label {cursor: pointer;display: block;width: 100%;margin-bottom: 0;padding: 0.3em;box-sizing: border-box;text-align: center;}#sk-container-id-17 label.sk-toggleable__label-arrow:before {content: \"▸\";float: left;margin-right: 0.25em;color: #696969;}#sk-container-id-17 label.sk-toggleable__label-arrow:hover:before {color: black;}#sk-container-id-17 div.sk-estimator:hover label.sk-toggleable__label-arrow:before {color: black;}#sk-container-id-17 div.sk-toggleable__content {max-height: 0;max-width: 0;overflow: hidden;text-align: left;background-color: #f0f8ff;}#sk-container-id-17 div.sk-toggleable__content pre {margin: 0.2em;color: black;border-radius: 0.25em;background-color: #f0f8ff;}#sk-container-id-17 input.sk-toggleable__control:checked~div.sk-toggleable__content {max-height: 200px;max-width: 100%;overflow: auto;}#sk-container-id-17 input.sk-toggleable__control:checked~label.sk-toggleable__label-arrow:before {content: \"▾\";}#sk-container-id-17 div.sk-estimator input.sk-toggleable__control:checked~label.sk-toggleable__label {background-color: #d4ebff;}#sk-container-id-17 div.sk-label input.sk-toggleable__control:checked~label.sk-toggleable__label {background-color: #d4ebff;}#sk-container-id-17 input.sk-hidden--visually {border: 0;clip: rect(1px 1px 1px 1px);clip: rect(1px, 1px, 1px, 1px);height: 1px;margin: -1px;overflow: hidden;padding: 0;position: absolute;width: 1px;}#sk-container-id-17 div.sk-estimator {font-family: monospace;background-color: #f0f8ff;border: 1px dotted black;border-radius: 0.25em;box-sizing: border-box;margin-bottom: 0.5em;}#sk-container-id-17 div.sk-estimator:hover {background-color: #d4ebff;}#sk-container-id-17 div.sk-parallel-item::after {content: \"\";width: 100%;border-bottom: 1px solid gray;flex-grow: 1;}#sk-container-id-17 div.sk-label:hover label.sk-toggleable__label {background-color: #d4ebff;}#sk-container-id-17 div.sk-serial::before {content: \"\";position: absolute;border-left: 1px solid gray;box-sizing: border-box;top: 0;bottom: 0;left: 50%;z-index: 0;}#sk-container-id-17 div.sk-serial {display: flex;flex-direction: column;align-items: center;background-color: white;padding-right: 0.2em;padding-left: 0.2em;position: relative;}#sk-container-id-17 div.sk-item {position: relative;z-index: 1;}#sk-container-id-17 div.sk-parallel {display: flex;align-items: stretch;justify-content: center;background-color: white;position: relative;}#sk-container-id-17 div.sk-item::before, #sk-container-id-17 div.sk-parallel-item::before {content: \"\";position: absolute;border-left: 1px solid gray;box-sizing: border-box;top: 0;bottom: 0;left: 50%;z-index: -1;}#sk-container-id-17 div.sk-parallel-item {display: flex;flex-direction: column;z-index: 1;position: relative;background-color: white;}#sk-container-id-17 div.sk-parallel-item:first-child::after {align-self: flex-end;width: 50%;}#sk-container-id-17 div.sk-parallel-item:last-child::after {align-self: flex-start;width: 50%;}#sk-container-id-17 div.sk-parallel-item:only-child::after {width: 0;}#sk-container-id-17 div.sk-dashed-wrapped {border: 1px dashed gray;margin: 0 0.4em 0.5em 0.4em;box-sizing: border-box;padding-bottom: 0.4em;background-color: white;}#sk-container-id-17 div.sk-label label {font-family: monospace;font-weight: bold;display: inline-block;line-height: 1.2em;}#sk-container-id-17 div.sk-label-container {text-align: center;}#sk-container-id-17 div.sk-container {/* jupyter's `normalize.less` sets `[hidden] { display: none; }` but bootstrap.min.css set `[hidden] { display: none !important; }` so we also need the `!important` here to be able to override the default hidden behavior on the sphinx rendered scikit-learn.org. See: https://github.com/scikit-learn/scikit-learn/issues/21755 */display: inline-block !important;position: relative;}#sk-container-id-17 div.sk-text-repr-fallback {display: none;}</style><div id=\"sk-container-id-17\" class=\"sk-top-container\"><div class=\"sk-text-repr-fallback\"><pre>KMeans(n_clusters=3, random_state=42)</pre><b>In a Jupyter environment, please rerun this cell to show the HTML representation or trust the notebook. <br />On GitHub, the HTML representation is unable to render, please try loading this page with nbviewer.org.</b></div><div class=\"sk-container\" hidden><div class=\"sk-item\"><div class=\"sk-estimator sk-toggleable\"><input class=\"sk-toggleable__control sk-hidden--visually\" id=\"sk-estimator-id-17\" type=\"checkbox\" checked><label for=\"sk-estimator-id-17\" class=\"sk-toggleable__label sk-toggleable__label-arrow\">KMeans</label><div class=\"sk-toggleable__content\"><pre>KMeans(n_clusters=3, random_state=42)</pre></div></div></div></div></div>"
      ],
      "text/plain": [
       "KMeans(n_clusters=3, random_state=42)"
      ]
     },
     "execution_count": 559,
     "metadata": {},
     "output_type": "execute_result"
    }
   ],
   "source": [
    "kmeans_pca = KMeans(n_clusters = 3, init = 'k-means++', random_state = 42)\n",
    "kmeans_pca.fit(scores_pca)"
   ]
  },
  {
   "cell_type": "code",
   "execution_count": 563,
   "metadata": {},
   "outputs": [
    {
     "data": {
      "text/html": [
       "<div>\n",
       "<style scoped>\n",
       "    .dataframe tbody tr th:only-of-type {\n",
       "        vertical-align: middle;\n",
       "    }\n",
       "\n",
       "    .dataframe tbody tr th {\n",
       "        vertical-align: top;\n",
       "    }\n",
       "\n",
       "    .dataframe thead th {\n",
       "        text-align: right;\n",
       "    }\n",
       "</style>\n",
       "<table border=\"1\" class=\"dataframe\">\n",
       "  <thead>\n",
       "    <tr style=\"text-align: right;\">\n",
       "      <th></th>\n",
       "      <th>uid</th>\n",
       "      <th>length</th>\n",
       "      <th>frequency</th>\n",
       "      <th>recency</th>\n",
       "      <th>periodicity</th>\n",
       "      <th>Component 1</th>\n",
       "      <th>Component 2</th>\n",
       "      <th>Segment K-means PCA</th>\n",
       "    </tr>\n",
       "  </thead>\n",
       "  <tbody>\n",
       "    <tr>\n",
       "      <th>0</th>\n",
       "      <td>24</td>\n",
       "      <td>0.0</td>\n",
       "      <td>0.0</td>\n",
       "      <td>0.500</td>\n",
       "      <td>0.000</td>\n",
       "      <td>-0.034309</td>\n",
       "      <td>0.044670</td>\n",
       "      <td>0</td>\n",
       "    </tr>\n",
       "    <tr>\n",
       "      <th>1</th>\n",
       "      <td>59</td>\n",
       "      <td>0.0</td>\n",
       "      <td>0.0</td>\n",
       "      <td>0.667</td>\n",
       "      <td>0.405</td>\n",
       "      <td>-0.226580</td>\n",
       "      <td>-0.139455</td>\n",
       "      <td>0</td>\n",
       "    </tr>\n",
       "    <tr>\n",
       "      <th>2</th>\n",
       "      <td>212</td>\n",
       "      <td>0.0</td>\n",
       "      <td>0.0</td>\n",
       "      <td>0.833</td>\n",
       "      <td>0.000</td>\n",
       "      <td>-0.346289</td>\n",
       "      <td>0.150310</td>\n",
       "      <td>0</td>\n",
       "    </tr>\n",
       "    <tr>\n",
       "      <th>3</th>\n",
       "      <td>323</td>\n",
       "      <td>0.0</td>\n",
       "      <td>0.0</td>\n",
       "      <td>0.667</td>\n",
       "      <td>0.405</td>\n",
       "      <td>-0.226580</td>\n",
       "      <td>-0.139455</td>\n",
       "      <td>0</td>\n",
       "    </tr>\n",
       "    <tr>\n",
       "      <th>4</th>\n",
       "      <td>356</td>\n",
       "      <td>0.0</td>\n",
       "      <td>0.0</td>\n",
       "      <td>1.000</td>\n",
       "      <td>0.000</td>\n",
       "      <td>-0.502748</td>\n",
       "      <td>0.203288</td>\n",
       "      <td>0</td>\n",
       "    </tr>\n",
       "  </tbody>\n",
       "</table>\n",
       "</div>"
      ],
      "text/plain": [
       "   uid  length  frequency  recency  periodicity  Component 1  Component 2  \\\n",
       "0   24     0.0        0.0    0.500        0.000    -0.034309     0.044670   \n",
       "1   59     0.0        0.0    0.667        0.405    -0.226580    -0.139455   \n",
       "2  212     0.0        0.0    0.833        0.000    -0.346289     0.150310   \n",
       "3  323     0.0        0.0    0.667        0.405    -0.226580    -0.139455   \n",
       "4  356     0.0        0.0    1.000        0.000    -0.502748     0.203288   \n",
       "\n",
       "   Segment K-means PCA  \n",
       "0                    0  \n",
       "1                    0  \n",
       "2                    0  \n",
       "3                    0  \n",
       "4                    0  "
      ]
     },
     "execution_count": 563,
     "metadata": {},
     "output_type": "execute_result"
    }
   ],
   "source": [
    "#create a new df with the original features and add the PCA scores and assigned clusters\n",
    "df_segm_pca_kmeans = pd.concat([scaled_df.reset_index(drop=True), pd.DataFrame(scores_pca)], axis=1)\n",
    "df_segm_pca_kmeans.columns.values[-2:] = ['Component 1', 'Component 2']\n",
    "df_segm_pca_kmeans['Segment K-means PCA'] = kmeans_pca.labels_\n",
    "df_segm_pca_kmeans.head()"
   ]
  },
  {
   "cell_type": "code",
   "execution_count": 564,
   "metadata": {},
   "outputs": [
    {
     "data": {
      "text/html": [
       "<div>\n",
       "<style scoped>\n",
       "    .dataframe tbody tr th:only-of-type {\n",
       "        vertical-align: middle;\n",
       "    }\n",
       "\n",
       "    .dataframe tbody tr th {\n",
       "        vertical-align: top;\n",
       "    }\n",
       "\n",
       "    .dataframe thead th {\n",
       "        text-align: right;\n",
       "    }\n",
       "</style>\n",
       "<table border=\"1\" class=\"dataframe\">\n",
       "  <thead>\n",
       "    <tr style=\"text-align: right;\">\n",
       "      <th></th>\n",
       "      <th>uid</th>\n",
       "      <th>length</th>\n",
       "      <th>frequency</th>\n",
       "      <th>recency</th>\n",
       "      <th>periodicity</th>\n",
       "      <th>Component 1</th>\n",
       "      <th>Component 2</th>\n",
       "      <th>Segment K-means PCA</th>\n",
       "      <th>Segment</th>\n",
       "    </tr>\n",
       "  </thead>\n",
       "  <tbody>\n",
       "    <tr>\n",
       "      <th>0</th>\n",
       "      <td>24</td>\n",
       "      <td>0.0</td>\n",
       "      <td>0.0</td>\n",
       "      <td>0.500</td>\n",
       "      <td>0.000</td>\n",
       "      <td>-0.034309</td>\n",
       "      <td>0.044670</td>\n",
       "      <td>0</td>\n",
       "      <td>First</td>\n",
       "    </tr>\n",
       "    <tr>\n",
       "      <th>1</th>\n",
       "      <td>59</td>\n",
       "      <td>0.0</td>\n",
       "      <td>0.0</td>\n",
       "      <td>0.667</td>\n",
       "      <td>0.405</td>\n",
       "      <td>-0.226580</td>\n",
       "      <td>-0.139455</td>\n",
       "      <td>0</td>\n",
       "      <td>First</td>\n",
       "    </tr>\n",
       "    <tr>\n",
       "      <th>2</th>\n",
       "      <td>212</td>\n",
       "      <td>0.0</td>\n",
       "      <td>0.0</td>\n",
       "      <td>0.833</td>\n",
       "      <td>0.000</td>\n",
       "      <td>-0.346289</td>\n",
       "      <td>0.150310</td>\n",
       "      <td>0</td>\n",
       "      <td>First</td>\n",
       "    </tr>\n",
       "    <tr>\n",
       "      <th>3</th>\n",
       "      <td>323</td>\n",
       "      <td>0.0</td>\n",
       "      <td>0.0</td>\n",
       "      <td>0.667</td>\n",
       "      <td>0.405</td>\n",
       "      <td>-0.226580</td>\n",
       "      <td>-0.139455</td>\n",
       "      <td>0</td>\n",
       "      <td>First</td>\n",
       "    </tr>\n",
       "    <tr>\n",
       "      <th>4</th>\n",
       "      <td>356</td>\n",
       "      <td>0.0</td>\n",
       "      <td>0.0</td>\n",
       "      <td>1.000</td>\n",
       "      <td>0.000</td>\n",
       "      <td>-0.502748</td>\n",
       "      <td>0.203288</td>\n",
       "      <td>0</td>\n",
       "      <td>First</td>\n",
       "    </tr>\n",
       "    <tr>\n",
       "      <th>...</th>\n",
       "      <td>...</td>\n",
       "      <td>...</td>\n",
       "      <td>...</td>\n",
       "      <td>...</td>\n",
       "      <td>...</td>\n",
       "      <td>...</td>\n",
       "      <td>...</td>\n",
       "      <td>...</td>\n",
       "      <td>...</td>\n",
       "    </tr>\n",
       "    <tr>\n",
       "      <th>2972</th>\n",
       "      <td>28723</td>\n",
       "      <td>0.0</td>\n",
       "      <td>0.0</td>\n",
       "      <td>0.000</td>\n",
       "      <td>0.405</td>\n",
       "      <td>0.398317</td>\n",
       "      <td>-0.351051</td>\n",
       "      <td>1</td>\n",
       "      <td>second</td>\n",
       "    </tr>\n",
       "    <tr>\n",
       "      <th>2973</th>\n",
       "      <td>28725</td>\n",
       "      <td>0.0</td>\n",
       "      <td>0.0</td>\n",
       "      <td>0.000</td>\n",
       "      <td>0.405</td>\n",
       "      <td>0.398317</td>\n",
       "      <td>-0.351051</td>\n",
       "      <td>1</td>\n",
       "      <td>second</td>\n",
       "    </tr>\n",
       "    <tr>\n",
       "      <th>2974</th>\n",
       "      <td>28726</td>\n",
       "      <td>0.0</td>\n",
       "      <td>0.0</td>\n",
       "      <td>0.000</td>\n",
       "      <td>0.000</td>\n",
       "      <td>0.434130</td>\n",
       "      <td>-0.113947</td>\n",
       "      <td>1</td>\n",
       "      <td>second</td>\n",
       "    </tr>\n",
       "    <tr>\n",
       "      <th>2975</th>\n",
       "      <td>28729</td>\n",
       "      <td>0.0</td>\n",
       "      <td>0.0</td>\n",
       "      <td>0.000</td>\n",
       "      <td>0.000</td>\n",
       "      <td>0.434130</td>\n",
       "      <td>-0.113947</td>\n",
       "      <td>1</td>\n",
       "      <td>second</td>\n",
       "    </tr>\n",
       "    <tr>\n",
       "      <th>2976</th>\n",
       "      <td>28732</td>\n",
       "      <td>0.0</td>\n",
       "      <td>0.0</td>\n",
       "      <td>0.000</td>\n",
       "      <td>0.405</td>\n",
       "      <td>0.398317</td>\n",
       "      <td>-0.351051</td>\n",
       "      <td>1</td>\n",
       "      <td>second</td>\n",
       "    </tr>\n",
       "  </tbody>\n",
       "</table>\n",
       "<p>2977 rows × 9 columns</p>\n",
       "</div>"
      ],
      "text/plain": [
       "        uid  length  frequency  recency  periodicity  Component 1  \\\n",
       "0        24     0.0        0.0    0.500        0.000    -0.034309   \n",
       "1        59     0.0        0.0    0.667        0.405    -0.226580   \n",
       "2       212     0.0        0.0    0.833        0.000    -0.346289   \n",
       "3       323     0.0        0.0    0.667        0.405    -0.226580   \n",
       "4       356     0.0        0.0    1.000        0.000    -0.502748   \n",
       "...     ...     ...        ...      ...          ...          ...   \n",
       "2972  28723     0.0        0.0    0.000        0.405     0.398317   \n",
       "2973  28725     0.0        0.0    0.000        0.405     0.398317   \n",
       "2974  28726     0.0        0.0    0.000        0.000     0.434130   \n",
       "2975  28729     0.0        0.0    0.000        0.000     0.434130   \n",
       "2976  28732     0.0        0.0    0.000        0.405     0.398317   \n",
       "\n",
       "      Component 2  Segment K-means PCA Segment  \n",
       "0        0.044670                    0   First  \n",
       "1       -0.139455                    0   First  \n",
       "2        0.150310                    0   First  \n",
       "3       -0.139455                    0   First  \n",
       "4        0.203288                    0   First  \n",
       "...           ...                  ...     ...  \n",
       "2972    -0.351051                    1  second  \n",
       "2973    -0.351051                    1  second  \n",
       "2974    -0.113947                    1  second  \n",
       "2975    -0.113947                    1  second  \n",
       "2976    -0.351051                    1  second  \n",
       "\n",
       "[2977 rows x 9 columns]"
      ]
     },
     "execution_count": 564,
     "metadata": {},
     "output_type": "execute_result"
    }
   ],
   "source": [
    "#add names of the segments\n",
    "df_segm_pca_kmeans['Segment'] = df_segm_pca_kmeans['Segment K-means PCA'].map({0:'First', 1:'second', 2: 'third'})\n",
    "df_segm_pca_kmeans"
   ]
  },
  {
   "cell_type": "markdown",
   "metadata": {},
   "source": [
    "## Visualize Clusters ##\n",
    "Will use PCA scores to find the most important components."
   ]
  },
  {
   "cell_type": "code",
   "execution_count": 565,
   "metadata": {},
   "outputs": [
    {
     "name": "stderr",
     "output_type": "stream",
     "text": [
      "C:\\Users\\96279\\AppData\\Roaming\\Python\\Python310\\site-packages\\seaborn\\_decorators.py:36: FutureWarning: Pass the following variables as keyword args: x, y. From version 0.12, the only valid positional argument will be `data`, and passing other arguments without an explicit keyword will result in an error or misinterpretation.\n",
      "  warnings.warn(\n"
     ]
    },
    {
     "data": {
      "image/png": "[encoded data removed]",
      "text/plain": [
       "<Figure size 720x576 with 1 Axes>"
      ]
     },
     "metadata": {
      "needs_background": "light"
     },
     "output_type": "display_data"
    }
   ],
   "source": [
    "x_axis = df_segm_pca_kmeans['Component 1']\n",
    "y_axis = df_segm_pca_kmeans['Component 2']\n",
    "plt.figure(figsize = (10,8))\n",
    "sns.scatterplot(x_axis, y_axis, hue = df_segm_pca_kmeans['Segment'], palette = ['g', 'r', 'b'])\n",
    "plt.title('Clusters by PCA Components')\n",
    "plt.show()"
   ]
  },
  {
   "cell_type": "code",
   "execution_count": 566,
   "metadata": {},
   "outputs": [
    {
     "data": {
      "image/png": "[encoded data removed]",
      "text/plain": [
       "<Figure size 864x720 with 2 Axes>"
      ]
     },
     "metadata": {
      "needs_background": "light"
     },
     "output_type": "display_data"
    }
   ],
   "source": [
    "plt.figure(figsize=(12,10))\n",
    "cor = df_segm_pca_kmeans.corr()\n",
    "sns.heatmap(cor, annot=True, cmap=plt.cm.Reds)\n",
    "plt.show()"
   ]
  },
  {
   "cell_type": "markdown",
   "metadata": {},
   "source": [
    "From the heatmap, I can recognize that the first component correlates positively length and frequency, meanwhile the second component correlates positvely with frequency and recency. Using this information, I can know what story the clusters tell."
   ]
  },
  {
   "cell_type": "markdown",
   "metadata": {},
   "source": [
    "We have 3 cluster.\n",
    "First cluster: short term user.\n",
    "second cluster: long term user but hasn't watched anything recently.\n",
    "third cluster: super user, long time frequent and recent."
   ]
  }
 ],
 "metadata": {
  "kernelspec": {
   "display_name": "Python 3.10.4 64-bit",
   "language": "python",
   "name": "python3"
  },
  "language_info": {
   "codemirror_mode": {
    "name": "ipython",
    "version": 3
   },
   "file_extension": ".py",
   "mimetype": "text/x-python",
   "name": "python",
   "nbconvert_exporter": "python",
   "pygments_lexer": "ipython3",
   "version": "3.10.4"
  },
  "orig_nbformat": 4,
  "vscode": {
   "interpreter": {
    "hash": "26de051ba29f2982a8de78e945f0abaf191376122a1563185a90213a26c5da77"
   }
  }
 },
 "nbformat": 4,
 "nbformat_minor": 2
}
